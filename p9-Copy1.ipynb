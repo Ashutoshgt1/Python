{
 "cells": [
  {
   "cell_type": "code",
   "execution_count": 2,
   "metadata": {},
   "outputs": [
    {
     "name": "stdout",
     "output_type": "stream",
     "text": [
      "{104: 115, 101: 111, 108: 101, 111: 121}\n",
      "soeey A3-eoarn\n"
     ]
    }
   ],
   "source": [
    "x=\"hello A3-learn\"\n",
    "y=x.maketrans(\"hello\",\"sorey\")\n",
    "print(y)\n",
    "ans=x.translate(y)\n",
    "print(ans)"
   ]
  },
  {
   "cell_type": "code",
   "execution_count": 22,
   "metadata": {},
   "outputs": [
    {
     "name": "stdout",
     "output_type": "stream",
     "text": [
      "[2, 1, 2, 3, 1, 2, 3, 4, 1, 2]\n",
      "21\n"
     ]
    }
   ],
   "source": [
    "l1=[5,2,4,7,1,3,5,8,3,6]\n",
    "l2=[1,1,1,1,1,1,1,1,1,1]\n",
    "m=0\n",
    "for i in range(len(l1)):\n",
    "    if(i==0):\n",
    "        if(l1[i]>l1[i+1]):\n",
    "            l2[i]+=1\n",
    "    elif(i==(len(l1)-1)):\n",
    "        if(l1[i]>l1[i-1]):\n",
    "            l2[i]+=1\n",
    "    else:\n",
    "        if(l1[i]>l1[i+1] and l1[i]>l1[i-1]):\n",
    "            m=max(l2[i-1],l2[i+1])\n",
    "            l2[i]+=m\n",
    "        elif(l1[i]>l1[i+1]):\n",
    "            l2[i]+=l2[i+1]\n",
    "        elif(l1[i]>l1[i-1]):\n",
    "            l2[i]+=l2[i-1]\n",
    "print(l2)\n",
    "print(sum(l2))"
   ]
  },
  {
   "cell_type": "code",
   "execution_count": 27,
   "metadata": {},
   "outputs": [
    {
     "name": "stdout",
     "output_type": "stream",
     "text": [
      "[2, 1, 2, 3, 1, 2, 3, 4, 1, 2]\n",
      "21\n"
     ]
    }
   ],
   "source": [
    "r=[5,2,4,7,1,3,5,8,3,6]\n",
    "c=[1]*10\n",
    "l=len(r)\n",
    "for i in range(1,l):\n",
    "    if r[i]>r[i-1]:\n",
    "        c[i]=c[i-1]+1\n",
    "for i in range(l-2,-1,-1):\n",
    "    if r[i]>r[i+1]:\n",
    "        c[i]=max(c[i],c[i+1]+1)\n",
    "print(c)\n",
    "print(sum(c))"
   ]
  },
  {
   "cell_type": "code",
   "execution_count": 31,
   "metadata": {},
   "outputs": [
    {
     "name": "stdout",
     "output_type": "stream",
     "text": [
      "[9, 2, 1]\n",
      "  nine  two  One"
     ]
    }
   ],
   "source": [
    "l=[1,2,11,30,111,9]\n",
    "x=[]\n",
    "for i in l:\n",
    "    if(i<10):\n",
    "        x.append(i)\n",
    "y=sorted(x,reverse=True)\n",
    "a = [\"Zero\",\"One\", \"two\", \"three\", \"four\", \"five\", \"six\", \"seven\", \"eight\", \"nine\", \"ten\", ]\n",
    "print(y)\n",
    "for i in y:\n",
    "    n=i\n",
    "    \n",
    "        \n",
    "  "
   ]
  },
  {
   "cell_type": "code",
   "execution_count": null,
   "metadata": {},
   "outputs": [],
   "source": []
  }
 ],
 "metadata": {
  "kernelspec": {
   "display_name": "Python 3",
   "language": "python",
   "name": "python3"
  },
  "language_info": {
   "codemirror_mode": {
    "name": "ipython",
    "version": 3
   },
   "file_extension": ".py",
   "mimetype": "text/x-python",
   "name": "python",
   "nbconvert_exporter": "python",
   "pygments_lexer": "ipython3",
   "version": "3.8.5"
  }
 },
 "nbformat": 4,
 "nbformat_minor": 4
}
