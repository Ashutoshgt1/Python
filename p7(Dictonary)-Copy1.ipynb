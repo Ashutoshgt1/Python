{
 "cells": [
  {
   "cell_type": "code",
   "execution_count": 11,
   "metadata": {},
   "outputs": [
    {
     "name": "stdout",
     "output_type": "stream",
     "text": [
      "xyz\n",
      "16\n",
      "3\n",
      "{'name': 'xyz', 'Age': '16', 'ID': 20}\n"
     ]
    }
   ],
   "source": [
    "#Dictionary\n",
    "x={'name':'xyz','Age':'16','ID':'10'}\n",
    "print(x['name'])\n",
    "print(x['Age'])\n",
    "x['ID']=20\n",
    "y=len(x)\n",
    "print(y)\n",
    "print(x)"
   ]
  },
  {
   "cell_type": "code",
   "execution_count": 13,
   "metadata": {},
   "outputs": [
    {
     "name": "stdout",
     "output_type": "stream",
     "text": [
      "dict_keys(['name', 'Age', 'No', 'Nation'])\n",
      "dict_values(['xyz', '16', '10', 'Indian'])\n",
      "dict_items([('name', 'xyz'), ('Age', '16'), ('No', '10'), ('Nation', 'Indian')])\n"
     ]
    }
   ],
   "source": [
    "x={'name':'xyz','Age':'16','No':'10','Nation':'Indian'}\n",
    "print(x.keys())\n",
    "print(x.values())\n",
    "print(x.items())"
   ]
  },
  {
   "cell_type": "code",
   "execution_count": 18,
   "metadata": {},
   "outputs": [
    {
     "name": "stdout",
     "output_type": "stream",
     "text": [
      "No of entry 1\n",
      "Enter keys name\n",
      "Enter values key MSD\n",
      "{'name': 'MSD'}\n",
      "Keys are dict_keys(['name'])\n",
      "values are dict_values(['MSD'])\n",
      "key-value are dict_items([('name', 'MSD')])\n"
     ]
    }
   ],
   "source": [
    "n=int(input(\"No of entry \"))\n",
    "d={}\n",
    "for i in range(n):\n",
    "    k=input(\"Enter keys \")\n",
    "    v=input(\"Enter values key \")\n",
    "    d.update({k:v})\n",
    "print(d)\n",
    "print(\"Keys are\",d.keys())\n",
    "print(\"values are\",d.values())\n",
    "print(\"key-value are\",d.items())"
   ]
  },
  {
   "cell_type": "code",
   "execution_count": 32,
   "metadata": {},
   "outputs": [
    {
     "name": "stdout",
     "output_type": "stream",
     "text": [
      "No of Players 3\n",
      "Enter name k5\n",
      "Enter runs j\\\n",
      "Enter name jh\n",
      "Enter runs hik\n",
      "Enter name hjh\n",
      "Enter runs juh\n",
      "{'k5': 'j\\\\', 'jh': 'hik', 'hjh': 'juh'}\n",
      "virat's run None\n"
     ]
    },
    {
     "ename": "KeyError",
     "evalue": "'Name'",
     "output_type": "error",
     "traceback": [
      "\u001b[1;31m---------------------------------------------------------------------------\u001b[0m",
      "\u001b[1;31mKeyError\u001b[0m                                  Traceback (most recent call last)",
      "\u001b[1;32m<ipython-input-32-a6c23f9e8817>\u001b[0m in \u001b[0;36m<module>\u001b[1;34m\u001b[0m\n\u001b[0;32m     19\u001b[0m \u001b[1;32melse\u001b[0m\u001b[1;33m:\u001b[0m\u001b[1;33m\u001b[0m\u001b[1;33m\u001b[0m\u001b[0m\n\u001b[0;32m     20\u001b[0m     \u001b[0mprint\u001b[0m\u001b[1;33m(\u001b[0m\u001b[1;34m\"virat's run\"\u001b[0m\u001b[1;33m,\u001b[0m\u001b[0my\u001b[0m\u001b[1;33m)\u001b[0m\u001b[1;33m\u001b[0m\u001b[1;33m\u001b[0m\u001b[0m\n\u001b[1;32m---> 21\u001b[1;33m \u001b[0mprint\u001b[0m\u001b[1;33m(\u001b[0m\u001b[1;34m\"name is\"\u001b[0m\u001b[1;33m,\u001b[0m\u001b[0md\u001b[0m\u001b[1;33m[\u001b[0m\u001b[1;34m'Name'\u001b[0m\u001b[1;33m]\u001b[0m\u001b[1;33m)\u001b[0m\u001b[1;33m\u001b[0m\u001b[1;33m\u001b[0m\u001b[0m\n\u001b[0m\u001b[0;32m     22\u001b[0m \u001b[0mprint\u001b[0m\u001b[1;33m(\u001b[0m\u001b[1;34m\"runs are\"\u001b[0m\u001b[1;33m,\u001b[0m\u001b[0md\u001b[0m\u001b[1;33m[\u001b[0m\u001b[1;34m'Runs'\u001b[0m\u001b[1;33m]\u001b[0m\u001b[1;33m)\u001b[0m\u001b[1;33m\u001b[0m\u001b[1;33m\u001b[0m\u001b[0m\n\u001b[0;32m     23\u001b[0m \u001b[0mprint\u001b[0m\u001b[1;33m(\u001b[0m\u001b[1;34m\"key-value are\"\u001b[0m\u001b[1;33m,\u001b[0m\u001b[0md\u001b[0m\u001b[1;33m.\u001b[0m\u001b[0mitems\u001b[0m\u001b[1;33m(\u001b[0m\u001b[1;33m)\u001b[0m\u001b[1;33m)\u001b[0m\u001b[1;33m\u001b[0m\u001b[1;33m\u001b[0m\u001b[0m\n",
      "\u001b[1;31mKeyError\u001b[0m: 'Name'"
     ]
    }
   ],
   "source": [
    "'''Input from user no of players\n",
    "Enter Player's name and Runs Store in dict:\n",
    "Find \"virat\" is in dict or not \n",
    "    if yes then return \n",
    "        score of virat\n",
    "    othrwise\n",
    "        player not found'''\n",
    "\n",
    "n=int(input(\"No of Players \"))\n",
    "d={}\n",
    "for i in range(n):\n",
    "    k=input(\"Enter name \")\n",
    "    v=input(\"Enter runs \")\n",
    "    d.update({k:v})\n",
    "print(d)\n",
    "y=d.get(\"virat\")\n",
    "if(y==1):\n",
    "    print(\"Player is not in dictionary\")\n",
    "else:\n",
    "    print(\"virat's run\",y)\n",
    "print(\"name is\",d['Name'])\n",
    "print(\"runs are\",d['Runs'])\n",
    "print(\"key-value are\",d.items())"
   ]
  },
  {
   "cell_type": "code",
   "execution_count": null,
   "metadata": {},
   "outputs": [],
   "source": [
    "x={'name':'xyz','Age':'16','No':'10','Nation':'Indian'}\n",
    "for i in x:\n",
    "    print(i)\n",
    "    print(x[i])\n",
    "y=sorted(x.items(),key=lambda x:x[1])\n",
    "print(y)"
   ]
  },
  {
   "cell_type": "code",
   "execution_count": 30,
   "metadata": {},
   "outputs": [
    {
     "name": "stdout",
     "output_type": "stream",
     "text": [
      "{1: 'a', 2: 'b', 3: 'c', 4: 'd'}\n",
      "1 is a\n",
      "2 is b\n",
      "3 is c\n",
      "4 is d\n"
     ]
    }
   ],
   "source": [
    "l=[1,2,3,4]\n",
    "m=['a','b','c','d']\n",
    "d=zip(l,m)\n",
    "x=dict(d)\n",
    "print(x)\n",
    "for i,j in x.items():\n",
    "    print(i,\"is\",j)"
   ]
  },
  {
   "cell_type": "code",
   "execution_count": 34,
   "metadata": {},
   "outputs": [
    {
     "name": "stdout",
     "output_type": "stream",
     "text": [
      "{'Happy': 2, 'new': 1, 'Year': 1, 'diwali': 1}\n"
     ]
    }
   ],
   "source": [
    "#count the no. of words occurs in string using dict:\n",
    "s=\"Happy new Year Happy diwali\"\n",
    "x=s.split(\" \")\n",
    "d={}\n",
    "for i in x:\n",
    "    d[i]=d.get(i,0)+1\n",
    "print(d)\n",
    "    "
   ]
  },
  {
   "cell_type": "code",
   "execution_count": 35,
   "metadata": {},
   "outputs": [
    {
     "name": "stdout",
     "output_type": "stream",
     "text": [
      "{'H': 5, 'i': 2, ' ': 8, 'e': 4, 'l': 4, 'o': 5, 'w': 1, 'A': 1, 'r': 1, 'Y': 1, 'u': 1, 'k': 1, 'm': 1, 'C': 1, 'h': 1}\n"
     ]
    }
   ],
   "source": [
    "#count no of letters \n",
    "s=\"Hi Hello How Are You kem Cho Hello Hi\"\n",
    "d={}\n",
    "for i in s:\n",
    "    d[i]=d.get(i,0)+1\n",
    "print(d)"
   ]
  },
  {
   "cell_type": "code",
   "execution_count": 36,
   "metadata": {},
   "outputs": [
    {
     "name": "stdout",
     "output_type": "stream",
     "text": [
      "{'Hi': ['Hi', 'Hi'], 'Hello': ['Hello', 'Hello'], 'How': ['How'], 'Are': ['Are'], 'You': ['You'], 'kem': ['kem'], 'Cho': ['Cho']}\n"
     ]
    }
   ],
   "source": [
    "s=\"Hi Hello How Are You kem Cho Hello Hi\"\n",
    "x=s.split(\" \")\n",
    "d={}\n",
    "for i in x:\n",
    "    d[i]=d.get(i,[])\n",
    "    d[i].append(i)\n",
    "print(d)"
   ]
  },
  {
   "cell_type": "code",
   "execution_count": 46,
   "metadata": {},
   "outputs": [
    {
     "name": "stdout",
     "output_type": "stream",
     "text": [
      "{'H': ['Hi', 'Hello', 'How', 'Hello', 'Hi'], 'A': ['Are'], 'Y': ['You'], 'k': ['kem'], 'C': ['Cho']}\n"
     ]
    }
   ],
   "source": [
    "s=\"Hi Hello How Are You kem Cho Hello Hi\"\n",
    "x=s.split(\" \")\n",
    "d={}\n",
    "for i in x:\n",
    "    d[i[0]]=d.get(i[0],[])\n",
    "    d[i[0]].append(i)\n",
    "print(d)"
   ]
  },
  {
   "cell_type": "code",
   "execution_count": 54,
   "metadata": {},
   "outputs": [
    {
     "name": "stdout",
     "output_type": "stream",
     "text": [
      "[('Hi', 2), ('Hello', 2), ('How', 1)]\n"
     ]
    }
   ],
   "source": [
    "#count the no. of words occurs in string using dict:\n",
    "s=\"Hi Hello How Are You kem Cho Hello Hi\"\n",
    "x=s.split(\" \")\n",
    "d={}\n",
    "for i in x:\n",
    "    d[i]=d.get(i,0)+1\n",
    "y=sorted(d.items(),key=lambda d:d[1],reverse=True)\n",
    "print(y[0:3:1])"
   ]
  },
  {
   "cell_type": "code",
   "execution_count": 5,
   "metadata": {},
   "outputs": [
    {
     "name": "stdout",
     "output_type": "stream",
     "text": [
      "enter password kasbcH@2334\n",
      "Weak\n"
     ]
    }
   ],
   "source": [
    "#8 digit password 1.upper alter\n",
    "#1-digit,1-@\n",
    "x=str(input(\"enter password \"))\n",
    "y,a,d=0,0,0\n",
    "d1={}\n",
    "l=[]\n",
    "if(len(x)>=8):\n",
    "    for i in x:\n",
    "        if(i.isupper()):\n",
    "            y=y+1\n",
    "            break\n",
    "        if(i.isdigit()):\n",
    "            l.append(i)\n",
    "            d=d+1\n",
    "            break\n",
    "        if(\"@\" in i):\n",
    "            a=a+1\n",
    "            break\n",
    "if(y>=1 and a>=1 and d>=1):\n",
    "    print(\"Strong\")\n",
    "    n=l[0]\n",
    "    p=\"Zero\"\n",
    "    a = [\n",
    "        \"\",\"One\", \"two\", \"three\", \"four\", \"five\", \n",
    "        \"six\", \"seven\", \"eight\", \"nine\", \"ten\", \n",
    "        \"eleven\", \"twelve\", \"thirteen\", \"fourteen\", \"fifteen\", \n",
    "        \"sixteen\", \"seventeen\", \"eighteen\", \"nineteen\", \"twenty\"]\n",
    "    b=[\"\",\"\",'twenty', 'thirty', 'forty', 'fifty', 'sixty', 'seventy', 'eighty', 'ninety']\n",
    "    crores=\"\"\n",
    "    lakhs=\"\"\n",
    "    if(n>1000):\n",
    "        thousands=a[n//1000]+\"Thousand\"\n",
    "        n=n%1000\n",
    "    else:\n",
    "        thousands=\"\"\n",
    "    if(n>100):\n",
    "        hundreds=a[n//100]+\"Hundred\"\n",
    "        n=n%100\n",
    "    else:\n",
    "        hundreds=\"\"\n",
    "    if (n>20 and n<100):\n",
    "        tens=b[n//10]\n",
    "        n%=10\n",
    "        ones=a[n]\n",
    "        print(crores+\" \"+lakhs+\" \"+thousands+\" \"+hundreds+\" \"+tens+\" \"+ones)\n",
    "    elif (n==0):\n",
    "        print(p)\n",
    "    else:\n",
    "        print(crores+\" \"+lakhs+\" \"+thousands+\" \"+hundreds+\" \"+a[n])\n",
    "else:\n",
    "    print(\"Weak\")"
   ]
  },
  {
   "cell_type": "code",
   "execution_count": null,
   "metadata": {},
   "outputs": [],
   "source": []
  },
  {
   "cell_type": "code",
   "execution_count": null,
   "metadata": {},
   "outputs": [],
   "source": []
  }
 ],
 "metadata": {
  "kernelspec": {
   "display_name": "Python 3",
   "language": "python",
   "name": "python3"
  },
  "language_info": {
   "codemirror_mode": {
    "name": "ipython",
    "version": 3
   },
   "file_extension": ".py",
   "mimetype": "text/x-python",
   "name": "python",
   "nbconvert_exporter": "python",
   "pygments_lexer": "ipython3",
   "version": "3.8.5"
  }
 },
 "nbformat": 4,
 "nbformat_minor": 4
}
