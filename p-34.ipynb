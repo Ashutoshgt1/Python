{
 "cells": [
  {
   "cell_type": "code",
   "execution_count": null,
   "metadata": {},
   "outputs": [],
   "source": [
    "#MRO\n",
    "class A:pass\n",
    "class B:pass\n",
    "class C:pass\n",
    "class D:pass\n",
    "class E:pass\n",
    "class K1(C,A,B):pass\n",
    "class K3(A,D):pass\n",
    "class K2(B,D,E):pass\n",
    "class Z(K1,K3,K2):pass\n",
    "MRO of Z"
   ]
  },
  {
   "cell_type": "code",
   "execution_count": 7,
   "metadata": {},
   "outputs": [
    {
     "name": "stdout",
     "output_type": "stream",
     "text": [
      "[0 1 2 3 4]\n",
      "[1 2 3]\n",
      "2\n"
     ]
    }
   ],
   "source": [
    "#Numpy\n",
    "#1D Array\n",
    "import numpy as np\n",
    "x=np.arange(5)\n",
    "print(x)\n",
    "y=np.array([1,2,3])\n",
    "print(y)\n",
    "#indexing\n",
    "print(y[1])"
   ]
  },
  {
   "cell_type": "code",
   "execution_count": 13,
   "metadata": {},
   "outputs": [
    {
     "name": "stdout",
     "output_type": "stream",
     "text": [
      "[[1 2 3]\n",
      " [4 5 6]\n",
      " [7 8 9]]\n",
      "[[1 2]\n",
      " [4 5]\n",
      " [6 7]]\n",
      "2\n",
      "5\n"
     ]
    },
    {
     "data": {
      "text/plain": [
       "array([[4, 5, 6],\n",
       "       [7, 8, 9]])"
      ]
     },
     "execution_count": 13,
     "metadata": {},
     "output_type": "execute_result"
    }
   ],
   "source": [
    "#2D Array\n",
    "import numpy as np\n",
    "x=np.arange(1,10).reshape(3,3)\n",
    "print(x)\n",
    "y=np.array([[1,2],[4,5],[6,7]])\n",
    "print(y)\n",
    "#indexing\n",
    "print(y[0][1])\n",
    "print(x[-2][-2])\n",
    "#slicing\n",
    "x[1:,:]"
   ]
  },
  {
   "cell_type": "code",
   "execution_count": 15,
   "metadata": {},
   "outputs": [
    {
     "name": "stdout",
     "output_type": "stream",
     "text": [
      "[[[1 2]\n",
      "  [3 4]]\n",
      "\n",
      " [[5 6]\n",
      "  [7 8]]]\n",
      "[[[ 1  2]\n",
      "  [ 4  5]\n",
      "  [ 6  7]]\n",
      "\n",
      " [[ 8  9]\n",
      "  [10 11]\n",
      "  [12 13]]]\n",
      "4\n",
      "1\n"
     ]
    },
    {
     "data": {
      "text/plain": [
       "array([[[5, 6],\n",
       "        [7, 8]]])"
      ]
     },
     "execution_count": 15,
     "metadata": {},
     "output_type": "execute_result"
    }
   ],
   "source": [
    "#3d Array\n",
    "import numpy as np\n",
    "x=np.arange(1,9).reshape(2,2,2)\n",
    "print(x)\n",
    "y=np.array([[[1,2],[4,5],[6,7]],\n",
    "            [[8,9],[10,11],[12,13]]\n",
    "           ])\n",
    "print(y)\n",
    "#indexing\n",
    "print(y[0][1][0])\n",
    "print(x[-2][-2][-2])\n",
    "#slicing\n",
    "x[1:,:,:]"
   ]
  },
  {
   "cell_type": "code",
   "execution_count": 16,
   "metadata": {},
   "outputs": [],
   "source": [
    "#concatenationation"
   ]
  },
  {
   "cell_type": "code",
   "execution_count": 19,
   "metadata": {},
   "outputs": [
    {
     "name": "stdout",
     "output_type": "stream",
     "text": [
      "[[[1 2]\n",
      "  [3 4]]\n",
      "\n",
      " [[5 6]\n",
      "  [7 8]]]\n",
      "5\n",
      "6\n",
      "7\n",
      "8\n"
     ]
    }
   ],
   "source": [
    "#nditer\n",
    "import numpy as np\n",
    "x=np.arange(1,9).reshape(2,2,2)\n",
    "print(x)\n",
    "for i in np.nditer(x[1:,:,:]):\n",
    "    print(i)"
   ]
  },
  {
   "cell_type": "code",
   "execution_count": 24,
   "metadata": {},
   "outputs": [
    {
     "name": "stdout",
     "output_type": "stream",
     "text": [
      "4\n",
      "6\n"
     ]
    }
   ],
   "source": [
    "#odd row and odd column\n",
    "import numpy as np\n",
    "x=np.arange(1,10).reshape(3,3)\n",
    "for i in np.nditer(x[1::2,::2]):\n",
    "    print(i)"
   ]
  },
  {
   "cell_type": "code",
   "execution_count": null,
   "metadata": {},
   "outputs": [],
   "source": []
  }
 ],
 "metadata": {
  "kernelspec": {
   "display_name": "Python 3",
   "language": "python",
   "name": "python3"
  },
  "language_info": {
   "codemirror_mode": {
    "name": "ipython",
    "version": 3
   },
   "file_extension": ".py",
   "mimetype": "text/x-python",
   "name": "python",
   "nbconvert_exporter": "python",
   "pygments_lexer": "ipython3",
   "version": "3.8.5"
  }
 },
 "nbformat": 4,
 "nbformat_minor": 4
}
