{
 "cells": [
  {
   "cell_type": "code",
   "execution_count": 8,
   "metadata": {},
   "outputs": [
    {
     "name": "stdout",
     "output_type": "stream",
     "text": [
      "12.23.34.56.78.90\n",
      "Invalid ip\n"
     ]
    }
   ],
   "source": [
    "x=input(\"\")\n",
    "c=0\n",
    "for j in x:\n",
    "    if(j==\".\"):\n",
    "        c=c+1\n",
    "if(c==3):\n",
    "    y=x.split(\".\")\n",
    "    f=0\n",
    "    for i in y:\n",
    "        i=int(i)\n",
    "        if(i>255 or i<1):\n",
    "            f=1\n",
    "    if(f==0):\n",
    "        print(\"Valid ip\")\n",
    "    else:\n",
    "        print(\"Invalid ip\")\n",
    "else:\n",
    "    print(\"Invalid ip\")"
   ]
  },
  {
   "cell_type": "code",
   "execution_count": 20,
   "metadata": {},
   "outputs": [
    {
     "name": "stdout",
     "output_type": "stream",
     "text": [
      "3\n",
      "Tss a  h  csc iials8 "
     ]
    }
   ],
   "source": [
    "#encrption meyhod 1\n",
    "x=\"This is a class c8\"\n",
    "k=int(input(\"\"))\n",
    "y=\"\"\n",
    "for i in range(0,k,1):\n",
    "    print(y+(x[i::k]),end=\"\")"
   ]
  },
  {
   "cell_type": "code",
   "execution_count": 6,
   "metadata": {},
   "outputs": [
    {
     "name": "stdout",
     "output_type": "stream",
     "text": [
      "abc$$dg\n"
     ]
    }
   ],
   "source": [
    "#abcaacdf replace first char which is repeated in string by $\n",
    "s=\"abcaadg\"\n",
    "x=s.replace(s[0],\"$\")\n",
    "print(s[0]+x[1:])"
   ]
  },
  {
   "cell_type": "code",
   "execution_count": 31,
   "metadata": {},
   "outputs": [
    {
     "name": "stdout",
     "output_type": "stream",
     "text": [
      "red gren yelow\n"
     ]
    }
   ],
   "source": [
    "#consecutive repeative words\n",
    "x=\"red green yellow\"\n",
    "s=\"\"\n",
    "for i in range(0,len(x)-1,1):\n",
    "    if(x[i]==x[i+1]):\n",
    "        continue\n",
    "    s+=x[i]\n",
    "s=s+x[len(x)-1]\n",
    "print(s)"
   ]
  },
  {
   "cell_type": "code",
   "execution_count": 40,
   "metadata": {},
   "outputs": [
    {
     "name": "stdout",
     "output_type": "stream",
     "text": [
      "True\n",
      "True\n",
      "{3}\n",
      "{3, 4, 5}\n",
      "{1}\n",
      "{1, 2, 3, 4, 5}\n"
     ]
    }
   ],
   "source": [
    "#set\n",
    "x={1,2,3}\n",
    "y={1,2,4,5}\n",
    "z={1}\n",
    "print(x.issuperset(z))\n",
    "print(z.issubset(x))\n",
    "print(x.difference(y))\n",
    "print(x.symmetric_difference(y))\n",
    "print(y.intersection(z))\n",
    "print(x.union(y))"
   ]
  },
  {
   "cell_type": "code",
   "execution_count": 44,
   "metadata": {},
   "outputs": [
    {
     "name": "stdout",
     "output_type": "stream",
     "text": [
      "Invalid\n"
     ]
    }
   ],
   "source": [
    "#check valid paranthesis\n",
    "x=\"{[}()\"\n",
    "c1,c2=0,0\n",
    "s1,s2=0,0\n",
    "r1,r2=0,0\n",
    "for i in range(0,len(x),1):\n",
    "    if(x[i]==\"{\"):\n",
    "        c1+=1\n",
    "    if(x[i]==\"(\"):\n",
    "        s1+=1 \n",
    "    if(x[i]==\"[\"):\n",
    "        r1+=1 \n",
    "    if(x[i]==\"}\"):\n",
    "        c2+=1 \n",
    "    if(x[i]==\")\"):\n",
    "        s2+=1 \n",
    "    if(x[i]==\"]\"):\n",
    "        r2+=1\n",
    "if(c1==c2 and s1==s2 and r1==r2):\n",
    "    print(\"valid\")\n",
    "else:\n",
    "    print(\"Invalid\")"
   ]
  },
  {
   "cell_type": "code",
   "execution_count": null,
   "metadata": {},
   "outputs": [],
   "source": [
    "x=input(\"enter \")\n",
    "if(x.count(\"{\")==x.count(\"}\") and x.count(\"[\")==x.count(\"]\") and x.count(\"(\")==x.count(\")\"))\n",
    "    print(\"valid\")\n",
    "else:\n",
    "    print(\"invalid\")"
   ]
  }
 ],
 "metadata": {
  "kernelspec": {
   "display_name": "Python 3",
   "language": "python",
   "name": "python3"
  },
  "language_info": {
   "codemirror_mode": {
    "name": "ipython",
    "version": 3
   },
   "file_extension": ".py",
   "mimetype": "text/x-python",
   "name": "python",
   "nbconvert_exporter": "python",
   "pygments_lexer": "ipython3",
   "version": "3.8.5"
  }
 },
 "nbformat": 4,
 "nbformat_minor": 4
}
