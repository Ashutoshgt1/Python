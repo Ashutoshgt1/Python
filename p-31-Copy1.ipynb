{
 "cells": [
  {
   "cell_type": "code",
   "execution_count": 6,
   "metadata": {},
   "outputs": [
    {
     "name": "stdout",
     "output_type": "stream",
     "text": [
      "parent\n",
      "child\n",
      "parent\n"
     ]
    },
    {
     "ename": "AttributeError",
     "evalue": "'A' object has no attribute 'e'",
     "output_type": "error",
     "traceback": [
      "\u001b[1;31m---------------------------------------------------------------------------\u001b[0m",
      "\u001b[1;31mAttributeError\u001b[0m                            Traceback (most recent call last)",
      "\u001b[1;32m<ipython-input-6-8294cb7bf5a6>\u001b[0m in \u001b[0;36m<module>\u001b[1;34m\u001b[0m\n\u001b[0;32m     11\u001b[0m \u001b[0my\u001b[0m\u001b[1;33m.\u001b[0m\u001b[0me\u001b[0m\u001b[1;33m(\u001b[0m\u001b[1;33m)\u001b[0m\u001b[1;33m\u001b[0m\u001b[1;33m\u001b[0m\u001b[0m\n\u001b[0;32m     12\u001b[0m \u001b[0my\u001b[0m\u001b[1;33m.\u001b[0m\u001b[0mshow\u001b[0m\u001b[1;33m(\u001b[0m\u001b[1;33m)\u001b[0m\u001b[1;33m\u001b[0m\u001b[1;33m\u001b[0m\u001b[0m\n\u001b[1;32m---> 13\u001b[1;33m \u001b[0mx\u001b[0m\u001b[1;33m.\u001b[0m\u001b[0me\u001b[0m\u001b[1;33m(\u001b[0m\u001b[1;33m)\u001b[0m\u001b[1;33m\u001b[0m\u001b[1;33m\u001b[0m\u001b[0m\n\u001b[0m",
      "\u001b[1;31mAttributeError\u001b[0m: 'A' object has no attribute 'e'"
     ]
    }
   ],
   "source": [
    "#single inheritance\n",
    "class A:\n",
    "    def show(self):\n",
    "        print(\"parent\")\n",
    "class B(A):\n",
    "    def e(self):\n",
    "        print(\"child\")\n",
    "x=A()\n",
    "x.show()\n",
    "y=B()\n",
    "y.e()\n",
    "y.show()\n",
    "x.e()"
   ]
  },
  {
   "cell_type": "code",
   "execution_count": 9,
   "metadata": {},
   "outputs": [
    {
     "name": "stdout",
     "output_type": "stream",
     "text": [
      "hello\n",
      "hello\n",
      "Bye\n",
      "hello\n",
      "Sayonara\n"
     ]
    }
   ],
   "source": [
    "#multiple\n",
    "class A:\n",
    "    def show(self):\n",
    "        print(\"hello\")\n",
    "class B(A):\n",
    "    def d(self):\n",
    "        print(\"Bye\")\n",
    "class C(A):\n",
    "    def e(self):\n",
    "        print(\"Sayonara\")\n",
    "a=A()\n",
    "a.show()\n",
    "b=B()\n",
    "b.show()\n",
    "b.d()\n",
    "c=C()\n",
    "c.show()\n",
    "c.e()"
   ]
  },
  {
   "cell_type": "code",
   "execution_count": 2,
   "metadata": {},
   "outputs": [
    {
     "name": "stdout",
     "output_type": "stream",
     "text": [
      "Sayonara\n",
      "Bye\n",
      "hello\n"
     ]
    },
    {
     "ename": "AttributeError",
     "evalue": "'B' object has no attribute 'e'",
     "output_type": "error",
     "traceback": [
      "\u001b[1;31m---------------------------------------------------------------------------\u001b[0m",
      "\u001b[1;31mAttributeError\u001b[0m                            Traceback (most recent call last)",
      "\u001b[1;32m<ipython-input-2-21cd4877815d>\u001b[0m in \u001b[0;36m<module>\u001b[1;34m\u001b[0m\n\u001b[0;32m     14\u001b[0m \u001b[0mc\u001b[0m\u001b[1;33m.\u001b[0m\u001b[0mshow\u001b[0m\u001b[1;33m(\u001b[0m\u001b[1;33m)\u001b[0m\u001b[1;33m\u001b[0m\u001b[1;33m\u001b[0m\u001b[0m\n\u001b[0;32m     15\u001b[0m \u001b[0mb\u001b[0m\u001b[1;33m=\u001b[0m\u001b[0mB\u001b[0m\u001b[1;33m(\u001b[0m\u001b[1;33m)\u001b[0m\u001b[1;33m\u001b[0m\u001b[1;33m\u001b[0m\u001b[0m\n\u001b[1;32m---> 16\u001b[1;33m \u001b[0mb\u001b[0m\u001b[1;33m.\u001b[0m\u001b[0me\u001b[0m\u001b[1;33m(\u001b[0m\u001b[1;33m)\u001b[0m\u001b[1;33m\u001b[0m\u001b[1;33m\u001b[0m\u001b[0m\n\u001b[0m\u001b[0;32m     17\u001b[0m \u001b[0mb\u001b[0m\u001b[1;33m.\u001b[0m\u001b[0md\u001b[0m\u001b[1;33m(\u001b[0m\u001b[1;33m)\u001b[0m\u001b[1;33m\u001b[0m\u001b[1;33m\u001b[0m\u001b[0m\n\u001b[0;32m     18\u001b[0m \u001b[0mb\u001b[0m\u001b[1;33m.\u001b[0m\u001b[0mshow\u001b[0m\u001b[1;33m(\u001b[0m\u001b[1;33m)\u001b[0m\u001b[1;33m\u001b[0m\u001b[1;33m\u001b[0m\u001b[0m\n",
      "\u001b[1;31mAttributeError\u001b[0m: 'B' object has no attribute 'e'"
     ]
    }
   ],
   "source": [
    "#multilevel\n",
    "class A:\n",
    "    def show(self):\n",
    "        print(\"hello\")\n",
    "class B:\n",
    "    def d(self):\n",
    "        print(\"Bye\")\n",
    "class C(A,B):\n",
    "    def e(self):\n",
    "        print(\"Sayonara\")\n",
    "c=C()\n",
    "c.e()\n",
    "c.d()\n",
    "c.show()\n",
    "b=B()\n",
    "b.e()\n",
    "b.d()\n",
    "b.show()"
   ]
  },
  {
   "cell_type": "code",
   "execution_count": 5,
   "metadata": {},
   "outputs": [
    {
     "name": "stdout",
     "output_type": "stream",
     "text": [
      "parent\n",
      "child\n"
     ]
    }
   ],
   "source": [
    "#method overridding\n",
    "class A:\n",
    "    def show(self):\n",
    "        print(\"parent\")\n",
    "class B(A):\n",
    "    def show(self):\n",
    "        print(\"child\")\n",
    "x=A()\n",
    "x.show()\n",
    "y=B()\n",
    "y.show()"
   ]
  },
  {
   "cell_type": "code",
   "execution_count": 26,
   "metadata": {},
   "outputs": [
    {
     "name": "stdout",
     "output_type": "stream",
     "text": [
      "name abc\n",
      "no_ofauther 2\n",
      "author writer\n",
      "publisher abcpublisher\n",
      "year 2023\n",
      "course dgfdf\n"
     ]
    }
   ],
   "source": [
    "#implement the following the class book name,no.ofauther,author,publisher,isbn,year\n",
    "#the derive class has one data member course overrides display method\n",
    "class Book:\n",
    "    name=\"\"\n",
    "    no_ofauther=0\n",
    "    author=\"\"\n",
    "    publisher=\"\"\n",
    "    isbn=0\n",
    "    year=0\n",
    "    def __init__(self,name,no_ofauther,author,publisher,isbn,year):\n",
    "        self.name=name\n",
    "        self.no_ofauther=no_ofauther\n",
    "        self.author=author\n",
    "        self.publisher=publisher\n",
    "        self.isbn=isbn\n",
    "        self.year=year\n",
    "    def display(self):\n",
    "        print(\"name\",self.name)\n",
    "        print(\"no_ofauther\",self.no_ofauther)\n",
    "        print(\"author\",self.author)\n",
    "        print(\"publisher\",self.publisher)\n",
    "        print(\"year\",self.year)\n",
    "class child(Book):\n",
    "    def __init__(self,course,name,no_ofauther,author,publisher,isbn,year):\n",
    "        super().__init__(name,no_ofauther,author,publisher,isbn,year)\n",
    "        self.course=course\n",
    "    def display(self):\n",
    "        super().display()\n",
    "        print(\"course\",self.course)\n",
    "c=child(\"dgfdf\",\"abc\",2,\"writer\",\"abcpublisher\",1234,2023)\n",
    "c.display()"
   ]
  },
  {
   "cell_type": "code",
   "execution_count": 41,
   "metadata": {},
   "outputs": [
    {
     "name": "stdout",
     "output_type": "stream",
     "text": [
      "---------Teaching----------\n",
      "name ABc\n",
      "salary 20000\n",
      "subject DE\n",
      "---------NonTeaching----------\n",
      "name XYZ\n",
      "salary 60000\n",
      "department PS\n"
     ]
    }
   ],
   "source": [
    "#Staff class --- name,salary\n",
    "#derived class teaching -- subject\n",
    "#non teaching -- Department\n",
    "class Staff:\n",
    "    name=\"\"\n",
    "    salary=0\n",
    "    def __init__(self,name,salary):\n",
    "        self.name=name\n",
    "        self.salary=salary\n",
    "class teaching(Staff):\n",
    "    subject=\"\"\n",
    "    def __init__(self,name,salary,subject):\n",
    "        super().__init__(name,salary)\n",
    "        self.subject=subject\n",
    "    def display(self):\n",
    "        print(\"---------Teaching----------\")\n",
    "        print(\"name\",self.name)\n",
    "        print(\"salary\",self.salary)\n",
    "        print(\"subject\",self.subject)\n",
    "class nonteaching(Staff):\n",
    "    department=\"\"\n",
    "    def __init__(self,name,salary,department):\n",
    "        super().__init__(name,salary)\n",
    "        self.department=department\n",
    "    def display(self):\n",
    "        print(\"---------NonTeaching----------\")\n",
    "        print(\"name\",self.name)\n",
    "        print(\"salary\",self.salary)\n",
    "        print(\"department\",self.department)\n",
    "t=teaching(\"ABc\",20000,\"DE\")\n",
    "t.display()\n",
    "nt=nonteaching(\"XYZ\",60000,\"PS\")\n",
    "nt.display()"
   ]
  },
  {
   "cell_type": "code",
   "execution_count": 42,
   "metadata": {},
   "outputs": [],
   "source": [
    "#create a class name Bus that inherit from vehicle class \n",
    "#in a vehicle class vehicle's name,mileage,seating_capacity\n",
    "#the default bhaadu seating_capacity*100\n",
    "# if vehicle is a bus instance then add 10% maintaince charge on fair\n"
   ]
  },
  {
   "cell_type": "code",
   "execution_count": 57,
   "metadata": {},
   "outputs": [
    {
     "name": "stdout",
     "output_type": "stream",
     "text": [
      "--------vehicle 1----------\n",
      "name: volvo\n",
      "mileage: 20\n",
      "seating_capacity: 50\n",
      "fare: 5500.0\n",
      "--------vehicle 2----------\n",
      "name: Fortuner\n",
      "mileage: 15\n",
      "seating_capacity: 7\n",
      "fare: 700\n"
     ]
    }
   ],
   "source": [
    "class Vehicle:\n",
    "    name=\"\"\n",
    "    mileage=0\n",
    "    seating_capacity=0\n",
    "    def __init__(self,name,mileage,seating_capacity):\n",
    "        self.name=name\n",
    "        self.mileage=mileage\n",
    "        self.seating_capacity=seating_capacity\n",
    "    def display(self):\n",
    "        print(\"name:\",self.name)\n",
    "        print(\"mileage:\",self.mileage)\n",
    "        print(\"seating_capacity:\",self.seating_capacity)\n",
    "class Bus(Vehicle):\n",
    "    fare=0.0\n",
    "    def __init__(self,name,mileage,seating_capacity):\n",
    "        super().__init__(name,mileage,seating_capacity)\n",
    "        Bus.fare=self.seating_capacity*100\n",
    "    def display(self):\n",
    "        .fare+=(Bus.fare*(0.1))\n",
    "        print(\"--------vehicle 1----------\")\n",
    "        super().display()\n",
    "        print(\"fare:\",Bus.fare)\n",
    "class Car(Vehicle):\n",
    "    fare=0.0\n",
    "    def __init__(self,name,mileage,seating_capacity):\n",
    "        super().__init__(name,mileage,seating_capacity)\n",
    "        self.fare=self.seating_capacity*100\n",
    "    def display(self):\n",
    "        print(\"--------vehicle 2----------\")\n",
    "        super().display()\n",
    "        print(\"fare:\",self.fare)\n",
    "b=Bus(\"volvo\",20,50)\n",
    "b.display()\n",
    "c=Car(\"Fortuner\",15,7)\n",
    "c.display()"
   ]
  },
  {
   "cell_type": "code",
   "execution_count": null,
   "metadata": {},
   "outputs": [],
   "source": []
  }
 ],
 "metadata": {
  "kernelspec": {
   "display_name": "Python 3",
   "language": "python",
   "name": "python3"
  },
  "language_info": {
   "codemirror_mode": {
    "name": "ipython",
    "version": 3
   },
   "file_extension": ".py",
   "mimetype": "text/x-python",
   "name": "python",
   "nbconvert_exporter": "python",
   "pygments_lexer": "ipython3",
   "version": "3.8.5"
  }
 },
 "nbformat": 4,
 "nbformat_minor": 4
}
