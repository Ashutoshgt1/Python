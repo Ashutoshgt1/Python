{
 "cells": [
  {
   "cell_type": "code",
   "execution_count": 13,
   "metadata": {},
   "outputs": [
    {
     "name": "stdout",
     "output_type": "stream",
     "text": [
      "[1, 2, 3, 4, 5, 6]\n",
      "[1, 2, 4, 5, 6]\n",
      "[1, 2, 4, 5]\n",
      "[]\n",
      "[7, 8, 9]\n",
      "[7, 8, 9]\n",
      "[7, 8, 9, 10]\n",
      "[7, 8, 9]\n"
     ]
    }
   ],
   "source": [
    "l=[1,2,3,4,5]\n",
    "l.append(6)\n",
    "print(l)\n",
    "l.remove(3)\n",
    "print(l)\n",
    "l.pop()\n",
    "print(l)\n",
    "l.clear()\n",
    "print(l)\n",
    "l2=[7,8,9]\n",
    "l.extend(l2)\n",
    "print(l)\n",
    "l3=list(l)\n",
    "print(l3)\n",
    "l4=l3\n",
    "l3.append(10)\n",
    "print(l4)\n",
    "l5=l.copy()\n",
    "l.append(10)\n",
    "print(l5)"
   ]
  },
  {
   "cell_type": "code",
   "execution_count": 17,
   "metadata": {},
   "outputs": [
    {
     "name": "stdout",
     "output_type": "stream",
     "text": [
      "Enter number from 0 to 100: 25\n",
      "even list:  [0, 2, 4, 6, 8, 10, 12, 14, 16, 18, 20, 22, 24]\n",
      "odd list:  [1, 3, 5, 7, 9, 11, 13, 15, 17, 19, 21, 23]\n"
     ]
    }
   ],
   "source": [
    "a=int(input(\"Enter number from 0 to 100: \"))\n",
    "l1=[]\n",
    "l2=[]\n",
    "for i in range(0,a+1,1):\n",
    "    if(i%2==0):\n",
    "        l1.append(i)\n",
    "    else:\n",
    "        l2.append(i)\n",
    "print(\"even list: \",l1)\n",
    "print(\"odd list: \",l2)"
   ]
  },
  {
   "cell_type": "code",
   "execution_count": 20,
   "metadata": {},
   "outputs": [
    {
     "name": "stdout",
     "output_type": "stream",
     "text": [
      "Enter number from 0 to 100: 51\n",
      "even list:  [0, 2, 4, 6, 8, 10, 12, 14, 16, 18, 20, 22, 24, 26, 28, 30, 32, 34, 36, 38, 40, 42, 44, 46, 48, 50]\n",
      "largest even: 50\n",
      "2nd largest even: 48\n",
      "odd list:  [1, 3, 5, 7, 9, 11, 13, 15, 17, 19, 21, 23, 25, 27, 29, 31, 33, 35, 37, 39, 41, 43, 45, 47, 49, 51]\n",
      "largest odd: 51\n",
      "2nd largest odd: 49\n"
     ]
    }
   ],
   "source": [
    "a=int(input(\"Enter number from 0 to 100: \"))\n",
    "l1=[]\n",
    "l2=[]\n",
    "for i in range(0,a+1,1):\n",
    "    if(i%2==0):\n",
    "        l1.append(i)\n",
    "    else:\n",
    "        l2.append(i)\n",
    "print(\"even list: \",l1)\n",
    "print(\"largest even:\",l1.pop())\n",
    "print(\"2nd largest even:\",l1.pop())\n",
    "print(\"odd list: \",l2)\n",
    "print(\"largest odd:\",l2.pop())\n",
    "print(\"2nd largest odd:\",l2.pop())"
   ]
  },
  {
   "cell_type": "code",
   "execution_count": 29,
   "metadata": {},
   "outputs": [
    {
     "name": "stdout",
     "output_type": "stream",
     "text": [
      "[5, 1, 2, 3, 4, 0]\n"
     ]
    }
   ],
   "source": [
    "x=[0,1,2,3,4,5]\n",
    "temp=x[0]\n",
    "x[0]=x[-1]\n",
    "x[-1]=temp\n",
    "print(x)"
   ]
  },
  {
   "cell_type": "code",
   "execution_count": 28,
   "metadata": {},
   "outputs": [
    {
     "name": "stdout",
     "output_type": "stream",
     "text": [
      "2\n"
     ]
    }
   ],
   "source": [
    "l=[1,2,5,3,4,5,6,7]\n",
    "x=5\n",
    "c=0\n",
    "for i in l:\n",
    "    if(i==x):\n",
    "        break\n",
    "    c=c+1\n",
    "print(c)"
   ]
  },
  {
   "cell_type": "code",
   "execution_count": 39,
   "metadata": {},
   "outputs": [
    {
     "name": "stdout",
     "output_type": "stream",
     "text": [
      "['naman', 'kick']\n"
     ]
    }
   ],
   "source": [
    "x=[\"aman\",\"ak\",\"naman\",\"kick\"]\n",
    "l=[]\n",
    "for i in x:\n",
    "    if(len(i)>=3 and i[0]==i[-1]):\n",
    "        l.append(i)\n",
    "print(l)"
   ]
  },
  {
   "cell_type": "code",
   "execution_count": 53,
   "metadata": {},
   "outputs": [
    {
     "name": "stdout",
     "output_type": "stream",
     "text": [
      "['p', 'y']\n",
      "py\n"
     ]
    }
   ],
   "source": [
    "x=[\"py\",\"python\",\"pyscent\"]\n",
    "l=[]\n",
    "a=x[0]\n",
    "b=x[1]\n",
    "c=x[2]\n",
    "y=\"\"\n",
    "for i in range(0,len(a),1):\n",
    "    if(a[i]==b[i]==c[i]):\n",
    "        l.append(a[i])\n",
    "        y=y+a[i]\n",
    "print(l)\n",
    "print(y)"
   ]
  },
  {
   "cell_type": "code",
   "execution_count": null,
   "metadata": {},
   "outputs": [],
   "source": [
    "for j in i:\n",
    "        if(i==0):\n",
    "            if(i[j]==i+1[j]==i+2[j]):\n",
    "                l.append(j)\n",
    "        elif(i==1):\n",
    "            if(i[j]==i-1[j]==i+1[j]):\n",
    "                l.append(j)\n",
    "        else(i==2)\n",
    "            if(i-1[j]==i-2[j]==i[j]):\n",
    "                l.append(j)"
   ]
  },
  {
   "cell_type": "code",
   "execution_count": 56,
   "metadata": {},
   "outputs": [
    {
     "ename": "SyntaxError",
     "evalue": "cannot assign to function call (<ipython-input-56-51b3bf9d8095>, line 4)",
     "output_type": "error",
     "traceback": [
      "\u001b[1;36m  File \u001b[1;32m\"<ipython-input-56-51b3bf9d8095>\"\u001b[1;36m, line \u001b[1;32m4\u001b[0m\n\u001b[1;33m    chr((a+j))=x[0]\u001b[0m\n\u001b[1;37m    ^\u001b[0m\n\u001b[1;31mSyntaxError\u001b[0m\u001b[1;31m:\u001b[0m cannot assign to function call\n"
     ]
    }
   ],
   "source": [
    "x=[\"py\",\"python\",\"pyscent\"]\n",
    "l=[]\n",
    "for j in range(0,len(x),1):\n",
    "    chr((a+j))=x[0]\n",
    "    chr((a+j+1))=x[1]\n",
    "    chr((a+j+2))=x[2]\n",
    "    y=\"\"\n",
    "    for i in range(0,len(a),1):\n",
    "        if((a+j)[i]==(a+j+1)[i]==(a+j+2)[i]):\n",
    "            l.append(a[i])\n",
    "            y=y+a[i]\n",
    "    print(l)\n",
    "    print(y)"
   ]
  },
  {
   "cell_type": "code",
   "execution_count": null,
   "metadata": {},
   "outputs": [],
   "source": [
    "x=[\"happy\",\"new\",\"happy\",\"year\"]\n",
    "l=[]\n",
    "for i in x:\n",
    "    for j in range(i):\n",
    "        "
   ]
  }
 ],
 "metadata": {
  "kernelspec": {
   "display_name": "Python 3",
   "language": "python",
   "name": "python3"
  },
  "language_info": {
   "codemirror_mode": {
    "name": "ipython",
    "version": 3
   },
   "file_extension": ".py",
   "mimetype": "text/x-python",
   "name": "python",
   "nbconvert_exporter": "python",
   "pygments_lexer": "ipython3",
   "version": "3.8.5"
  }
 },
 "nbformat": 4,
 "nbformat_minor": 4
}
