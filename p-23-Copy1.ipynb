{
 "cells": [
  {
   "cell_type": "code",
   "execution_count": 6,
   "metadata": {},
   "outputs": [
    {
     "name": "stdout",
     "output_type": "stream",
     "text": [
      "Overwriting abc.py\n"
     ]
    }
   ],
   "source": [
    "%%writefile abc.py\n",
    "a=100\n",
    "def add(x,y):\n",
    "    return (x+y)\n",
    "def sub(x,y):\n",
    "    return (x-y)\n",
    "def mul(x,y):\n",
    "    return (x*y)\n",
    "def div(x,y):\n",
    "    return (x//y)"
   ]
  },
  {
   "cell_type": "code",
   "execution_count": 7,
   "metadata": {},
   "outputs": [
    {
     "ename": "AttributeError",
     "evalue": "module 'abc' has no attribute 'a'",
     "output_type": "error",
     "traceback": [
      "\u001b[1;31m---------------------------------------------------------------------------\u001b[0m",
      "\u001b[1;31mAttributeError\u001b[0m                            Traceback (most recent call last)",
      "\u001b[1;32m<ipython-input-7-729409e9d229>\u001b[0m in \u001b[0;36m<module>\u001b[1;34m\u001b[0m\n\u001b[0;32m      1\u001b[0m \u001b[1;32mimport\u001b[0m \u001b[0mabc\u001b[0m \u001b[1;32mas\u001b[0m \u001b[0mpd\u001b[0m\u001b[1;33m\u001b[0m\u001b[1;33m\u001b[0m\u001b[0m\n\u001b[1;32m----> 2\u001b[1;33m \u001b[0mprint\u001b[0m\u001b[1;33m(\u001b[0m\u001b[0mpd\u001b[0m\u001b[1;33m.\u001b[0m\u001b[0ma\u001b[0m\u001b[1;33m)\u001b[0m\u001b[1;33m\u001b[0m\u001b[1;33m\u001b[0m\u001b[0m\n\u001b[0m\u001b[0;32m      3\u001b[0m \u001b[0mpd\u001b[0m\u001b[1;33m.\u001b[0m\u001b[0madd\u001b[0m\u001b[1;33m(\u001b[0m\u001b[1;36m10\u001b[0m\u001b[1;33m,\u001b[0m\u001b[1;36m20\u001b[0m\u001b[1;33m)\u001b[0m\u001b[1;33m\u001b[0m\u001b[1;33m\u001b[0m\u001b[0m\n\u001b[0;32m      4\u001b[0m \u001b[0mpd\u001b[0m\u001b[1;33m.\u001b[0m\u001b[0msub\u001b[0m\u001b[1;33m(\u001b[0m\u001b[1;36m10\u001b[0m\u001b[1;33m,\u001b[0m\u001b[1;36m20\u001b[0m\u001b[1;33m)\u001b[0m\u001b[1;33m\u001b[0m\u001b[1;33m\u001b[0m\u001b[0m\n\u001b[0;32m      5\u001b[0m \u001b[0mpd\u001b[0m\u001b[1;33m.\u001b[0m\u001b[0mmul\u001b[0m\u001b[1;33m(\u001b[0m\u001b[1;36m10\u001b[0m\u001b[1;33m,\u001b[0m\u001b[1;36m20\u001b[0m\u001b[1;33m)\u001b[0m\u001b[1;33m\u001b[0m\u001b[1;33m\u001b[0m\u001b[0m\n",
      "\u001b[1;31mAttributeError\u001b[0m: module 'abc' has no attribute 'a'"
     ]
    }
   ],
   "source": [
    "import abc as pd\n",
    "print(pd.a)\n",
    "pd.add(10,20)\n",
    "pd.sub(10,20)\n",
    "pd.mul(10,20)\n",
    "pd.div(10,20)"
   ]
  },
  {
   "cell_type": "code",
   "execution_count": 3,
   "metadata": {},
   "outputs": [
    {
     "data": {
      "text/plain": [
       "'C:\\\\Users\\\\LJENG\\\\PYTHON'"
      ]
     },
     "execution_count": 3,
     "metadata": {},
     "output_type": "execute_result"
    }
   ],
   "source": [
    "import os\n",
    "os.getcwd()'''get current working directory'''"
   ]
  },
  {
   "cell_type": "code",
   "execution_count": 4,
   "metadata": {},
   "outputs": [],
   "source": [
    "os.mkdir(\"a3\")"
   ]
  },
  {
   "cell_type": "code",
   "execution_count": 5,
   "metadata": {},
   "outputs": [],
   "source": [
    "os.makedirs(os.path.join(\"a333\",\"a444\"))'''subfolder a444 in a folder a333'''"
   ]
  },
  {
   "cell_type": "code",
   "execution_count": 1,
   "metadata": {},
   "outputs": [
    {
     "name": "stdout",
     "output_type": "stream",
     "text": [
      "Writing xyz.py\n"
     ]
    }
   ],
   "source": [
    "%%writefile xyz.py\n",
    "def rev(x):\n",
    "    y=x[::-1]\n",
    "    return (y)\n",
    "def vow(x):\n",
    "    c=0\n",
    "    for i in x:\n",
    "        if(i==\"a\" or i==\"e\" or i==\"i\" or i==\"o\" or i==\"u\"):\n",
    "            c+=1\n",
    "    return c"
   ]
  },
  {
   "cell_type": "code",
   "execution_count": 2,
   "metadata": {},
   "outputs": [
    {
     "name": "stdout",
     "output_type": "stream",
     "text": [
      "enter stringabcsdefg\n",
      "gfedscba\n",
      "2\n"
     ]
    }
   ],
   "source": [
    "import xyz as p\n",
    "x=str(input(\"enter string: \"))\n",
    "print(p.rev(x))\n",
    "print(p.vow(x))\n"
   ]
  },
  {
   "cell_type": "code",
   "execution_count": 2,
   "metadata": {},
   "outputs": [
    {
     "name": "stdout",
     "output_type": "stream",
     "text": [
      "Enter string: abc\n",
      "Enter string: def\n",
      "Enter string: fkg\n",
      "Enter string: end\n",
      "adf\n"
     ]
    }
   ],
   "source": [
    "f=open(\"10.txt\",\"w\")\n",
    "a=\"\"\n",
    "while(True):\n",
    "    a=str(input(\"Enter string: \"))\n",
    "    if(a==\"end\"):\n",
    "        break\n",
    "    else:\n",
    "        f.write(a[0])\n",
    "f.close()\n",
    "f=open(\"10.txt\",\"r\")\n",
    "f.seek(0)\n",
    "print(f.read())"
   ]
  },
  {
   "cell_type": "code",
   "execution_count": 19,
   "metadata": {},
   "outputs": [
    {
     "name": "stdout",
     "output_type": "stream",
     "text": [
      "monday 12 O'clock 25 Minutes 08Seconds\n",
      "tuesday 11 O'clock 27 Minutes 08Seconds\n",
      "wednesday 9 O'clock 25 Minutes 08Seconds\n",
      "thursday 8 O'clock 00 Minutes 08Seconds\n",
      "friday 7 O'clock 56 Minutes 08Seconds\n",
      "saturday 1 O'clock 44 Minutes 08Seconds\n",
      "sunday 5 O'clock 25 Minutes 08Seconds\n",
      "Average of hours: 7.571428571428571\n"
     ]
    }
   ],
   "source": [
    "f=open(\"11.txt\",\"r\")\n",
    "x=f.readlines()\n",
    "avg=0\n",
    "for i in x:\n",
    "    a=i.split()\n",
    "    print(a[0],end=\" \")\n",
    "    print(a[1].split(\":\")[0]+\" O'clock \"+a[1].split(\":\")[1]+\" Minutes \"+a[1].split(\":\")[2]+\"Seconds\")\n",
    "    avg+=int(a[1].split(\":\")[0])\n",
    "print(\"Average of hours:\",(avg/7))"
   ]
  },
  {
   "cell_type": "code",
   "execution_count": null,
   "metadata": {},
   "outputs": [],
   "source": []
  },
  {
   "cell_type": "code",
   "execution_count": null,
   "metadata": {},
   "outputs": [],
   "source": []
  }
 ],
 "metadata": {
  "kernelspec": {
   "display_name": "Python 3",
   "language": "python",
   "name": "python3"
  },
  "language_info": {
   "codemirror_mode": {
    "name": "ipython",
    "version": 3
   },
   "file_extension": ".py",
   "mimetype": "text/x-python",
   "name": "python",
   "nbconvert_exporter": "python",
   "pygments_lexer": "ipython3",
   "version": "3.8.5"
  }
 },
 "nbformat": 4,
 "nbformat_minor": 4
}
