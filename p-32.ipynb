{
 "cells": [
  {
   "cell_type": "code",
   "execution_count": 8,
   "metadata": {},
   "outputs": [
    {
     "name": "stdout",
     "output_type": "stream",
     "text": [
      "Hello\n",
      "Bye\n"
     ]
    }
   ],
   "source": [
    "#Abstraction\n",
    "from abc import *\n",
    "class F(ABC):\n",
    "    @abstractmethod\n",
    "    def display(self):\n",
    "        pass\n",
    "    def d(self):\n",
    "        print(\"Bye\")\n",
    "class c(F):\n",
    "    def display(self):\n",
    "        print(\"Hello\")\n",
    "C=c()\n",
    "C.display()\n",
    "C.d()"
   ]
  },
  {
   "cell_type": "code",
   "execution_count": 4,
   "metadata": {},
   "outputs": [
    {
     "name": "stdout",
     "output_type": "stream",
     "text": [
      "Writing abc.py\n"
     ]
    }
   ],
   "source": [
    "%%writefile abc.py\n",
    "class ABC:\n",
    "    def display(self):\n",
    "        print(\"abc\")"
   ]
  },
  {
   "cell_type": "code",
   "execution_count": 1,
   "metadata": {},
   "outputs": [
    {
     "name": "stdout",
     "output_type": "stream",
     "text": [
      "----------Navy----------\n",
      "Area:Indian Ocean\n",
      "Gun:AK47\n",
      "----------AirForce----------\n",
      "Area:Kashmir\n",
      "Gun:AK47\n",
      "----------Army----------\n",
      "Area:Indo-pak border\n",
      "Gun:AK47\n"
     ]
    }
   ],
   "source": [
    "#abstract class defence\n",
    "from abc import *\n",
    "class Defence(ABC):\n",
    "    @abstractmethod\n",
    "    def area(self):\n",
    "        pass\n",
    "    def gun(self):\n",
    "        print(\"Gun:AK47\")\n",
    "class Navy(Defence):\n",
    "    def area(self):\n",
    "        print(\"Area:Indian Ocean\")\n",
    "class AirForce(Defence):\n",
    "    def area(self):\n",
    "        print(\"Area:Kashmir\")\n",
    "class Army(Defence):\n",
    "    def area(self):\n",
    "        print(\"Area:Indo-pak border\")\n",
    "n=Navy()\n",
    "print(\"----------Navy----------\")\n",
    "n.area()\n",
    "n.gun()\n",
    "print(\"----------AirForce----------\")\n",
    "a=AirForce()\n",
    "a.area()\n",
    "a.gun()\n",
    "print(\"----------Army----------\")\n",
    "a1=Army()\n",
    "a1.area()\n",
    "a1.gun()"
   ]
  },
  {
   "cell_type": "code",
   "execution_count": 3,
   "metadata": {},
   "outputs": [
    {
     "name": "stdout",
     "output_type": "stream",
     "text": [
      "----------Rectangle----------\n",
      "Enter length of rectangle2\n",
      "Enter width of rectangle5\n",
      "Area of reactangle 10\n",
      "----------Circle----------\n",
      "Enter radius of circle2\n",
      "Area of reactangle 12.566370614359172\n"
     ]
    }
   ],
   "source": [
    "import math\n",
    "from abc import *\n",
    "class Shape(ABC):\n",
    "    @abstractmethod\n",
    "    def calculate_area(self):\n",
    "        pass\n",
    "    def gun(self):\n",
    "        print(\"Gun:AK47\")\n",
    "class Rectangle(Shape):\n",
    "    area=0.0\n",
    "    def calculate_area(self):\n",
    "        l=int(input(\"Enter length of rectangle \"))\n",
    "        w=int(input(\"Enter width of rectangle \"))\n",
    "        area=l*w\n",
    "        print(\"Area of reactangle\",area)\n",
    "class Circle(Shape):\n",
    "    def calculate_area(self):\n",
    "        r=int(input(\"Enter radius of circle \"))\n",
    "        area=math.pi*r*r\n",
    "        print(\"Area of reactangle\",area)\n",
    "print(\"----------Rectangle----------\")\n",
    "n=Rectangle()\n",
    "n.calculate_area()\n",
    "print(\"----------Circle----------\")\n",
    "a=Circle()\n",
    "a.calculate_area()"
   ]
  },
  {
   "cell_type": "code",
   "execution_count": 24,
   "metadata": {},
   "outputs": [
    {
     "name": "stdout",
     "output_type": "stream",
     "text": [
      "Employee ID: 1\n",
      "Employee Name: ABC\n",
      "Basic salary: 30000\n",
      "DA: 10500.0\n",
      "HRF: 5100.0\n",
      "PF: 3600.0\n",
      "Total perks 19200.0\n",
      "Total Salary: 49200.0\n"
     ]
    }
   ],
   "source": [
    "from abc import *\n",
    "class Employee(ABC):\n",
    "    @abstractmethod\n",
    "    def emp_id(self):\n",
    "        pass\n",
    "    def details(self,employee_id,name,salary):\n",
    "        self.employee_id=employee_id\n",
    "        self.name=name\n",
    "        self.salary=salary\n",
    "    def display(self):\n",
    "        print(\"Employee ID:\",self.employee_id)\n",
    "        print(\"Employee Name:\",self.name)\n",
    "        print(\"Basic salary:\",self.salary)\n",
    "    def get_salary(self):\n",
    "        return self.salary\n",
    "class Perks(Employee):\n",
    "    def emp_id(self):\n",
    "        pass\n",
    "    def calculate_perks(self):\n",
    "        self.a=self.salary*(0.35)\n",
    "        self.b=self.salary*(0.17)\n",
    "        self.c=self.salary*(0.12)\n",
    "    def display(self):\n",
    "        super().display()\n",
    "        print(\"DA:\",self.a)\n",
    "        print(\"HRF:\",self.b)\n",
    "        print(\"PF:\",self.c)\n",
    "        print(\"Total perks\",self.a+self.b+self.c)\n",
    "class Netsalary(Perks):\n",
    "    net_salary=0.0\n",
    "    def calculate(self):\n",
    "        self.net_salary=(self.salary+self.a+self.b+self.c)\n",
    "    def display(self):\n",
    "        self.calculate()\n",
    "        super().display()\n",
    "        print(\"Total Salary:\",self.net_salary)\n",
    "n=Netsalary()\n",
    "n.details(1,\"ABC\",30000)\n",
    "n.calculate_perks()\n",
    "n.display()"
   ]
  },
  {
   "cell_type": "code",
   "execution_count": 34,
   "metadata": {},
   "outputs": [
    {
     "name": "stdout",
     "output_type": "stream",
     "text": [
      "Total: 3\n"
     ]
    }
   ],
   "source": [
    "class xyz:\n",
    "    def add(self,*args):\n",
    "        total=0\n",
    "        for i in args:\n",
    "            total+=i\n",
    "        print(\"Total:\",total)\n",
    "x=xyz()\n",
    "x.add(1,2)"
   ]
  },
  {
   "cell_type": "code",
   "execution_count": 36,
   "metadata": {},
   "outputs": [
    {
     "ename": "TypeError",
     "evalue": "add() missing 1 required positional argument: 'c'",
     "output_type": "error",
     "traceback": [
      "\u001b[1;31m---------------------------------------------------------------------------\u001b[0m",
      "\u001b[1;31mTypeError\u001b[0m                                 Traceback (most recent call last)",
      "\u001b[1;32m<ipython-input-36-cf82ce55839e>\u001b[0m in \u001b[0;36m<module>\u001b[1;34m\u001b[0m\n\u001b[0;32m      5\u001b[0m         \u001b[1;32mreturn\u001b[0m \u001b[0ma\u001b[0m\u001b[1;33m+\u001b[0m\u001b[0mb\u001b[0m\u001b[1;33m+\u001b[0m\u001b[0mc\u001b[0m\u001b[1;33m\u001b[0m\u001b[1;33m\u001b[0m\u001b[0m\n\u001b[0;32m      6\u001b[0m \u001b[0mx\u001b[0m\u001b[1;33m=\u001b[0m\u001b[0mxyz\u001b[0m\u001b[1;33m(\u001b[0m\u001b[1;33m)\u001b[0m\u001b[1;33m\u001b[0m\u001b[1;33m\u001b[0m\u001b[0m\n\u001b[1;32m----> 7\u001b[1;33m \u001b[0mprint\u001b[0m\u001b[1;33m(\u001b[0m\u001b[0mx\u001b[0m\u001b[1;33m.\u001b[0m\u001b[0madd\u001b[0m\u001b[1;33m(\u001b[0m\u001b[1;36m1\u001b[0m\u001b[1;33m,\u001b[0m\u001b[1;36m2\u001b[0m\u001b[1;33m)\u001b[0m\u001b[1;33m)\u001b[0m\u001b[1;33m\u001b[0m\u001b[1;33m\u001b[0m\u001b[0m\n\u001b[0m\u001b[0;32m      8\u001b[0m \u001b[0mprint\u001b[0m\u001b[1;33m(\u001b[0m\u001b[0mx\u001b[0m\u001b[1;33m.\u001b[0m\u001b[0madd\u001b[0m\u001b[1;33m(\u001b[0m\u001b[1;36m1\u001b[0m\u001b[1;33m,\u001b[0m\u001b[1;36m2\u001b[0m\u001b[1;33m,\u001b[0m\u001b[1;36m3\u001b[0m\u001b[1;33m)\u001b[0m\u001b[1;33m)\u001b[0m\u001b[1;33m\u001b[0m\u001b[1;33m\u001b[0m\u001b[0m\n",
      "\u001b[1;31mTypeError\u001b[0m: add() missing 1 required positional argument: 'c'"
     ]
    }
   ],
   "source": [
    "#python does not support method overloading\n",
    "class xyz:\n",
    "    def add(self,a,b,c=0):\n",
    "        return a+b+c\n",
    "    def add(self,a,b,c):\n",
    "        return a+b+c\n",
    "x=xyz()\n",
    "print(x.add(1,2))\n",
    "print(x.add(1,2,3))"
   ]
  },
  {
   "cell_type": "code",
   "execution_count": null,
   "metadata": {},
   "outputs": [],
   "source": []
  }
 ],
 "metadata": {
  "kernelspec": {
   "display_name": "Python 3",
   "language": "python",
   "name": "python3"
  },
  "language_info": {
   "codemirror_mode": {
    "name": "ipython",
    "version": 3
   },
   "file_extension": ".py",
   "mimetype": "text/x-python",
   "name": "python",
   "nbconvert_exporter": "python",
   "pygments_lexer": "ipython3",
   "version": "3.8.5"
  }
 },
 "nbformat": 4,
 "nbformat_minor": 4
}
