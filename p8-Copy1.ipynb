{
 "cells": [
  {
   "cell_type": "code",
   "execution_count": 6,
   "metadata": {},
   "outputs": [
    {
     "name": "stdout",
     "output_type": "stream",
     "text": [
      "Remove index 1\n",
      "[2, 6, 4]\n"
     ]
    }
   ],
   "source": [
    "'''Remove special element from the list.After that list will be balanced\n",
    "List balanced if sum of even index and sum of odd index's elements are same\n",
    "print the list after removal of that special element'''\n",
    "l=[2,1,6,4]\n",
    "for i in range(len(l)):\n",
    "    c=l.copy()\n",
    "    c.pop(i)\n",
    "    s1=sum(c[0::2])\n",
    "    s2=sum(c[1::2])\n",
    "    if(s1==s2):\n",
    "        print(\"Remove index\",i)\n",
    "        print(l[0:1]+l[i+1:])"
   ]
  },
  {
   "cell_type": "code",
   "execution_count": 14,
   "metadata": {},
   "outputs": [
    {
     "name": "stdout",
     "output_type": "stream",
     "text": [
      "Enter Roman NumberVII\n",
      "0\n"
     ]
    }
   ],
   "source": [
    "#Roman to int:\n",
    "n=input(\"Enter Roman Number\")\n",
    "a={'I':'1','IV':'4','V':5,'IX':9,'X':10,'XL':40,'L':50,'XC':90,'C':100}\n",
    "v=0\n",
    "n1=[]\n",
    "c=0\n",
    "for i in n:\n",
    "    x=n.find('IV')\n",
    "    if(x>0):\n",
    "        n1=n[0:x:1]+n[x+2::1]\n",
    "        v+=4\n",
    "    x=n.find('IX')\n",
    "    if(x>0):\n",
    "        n1=n[0:x:1]+n[x+2::1]\n",
    "        v+=9\n",
    "    x=n.find('XL')\n",
    "    if(x>0):\n",
    "        n1=n[0:x:1]+n[x+2::1]\n",
    "        v+=40\n",
    "    x=n.find('XC')\n",
    "    if(x>0):\n",
    "        n1=n[0:x:1]+n[x+2::1]\n",
    "        v=400\n",
    "    for i in n1:\n",
    "        c=n1.count('i')\n",
    "        v+=(a[i,0])*c\n",
    "print(v)\n",
    "        "
   ]
  },
  {
   "cell_type": "code",
   "execution_count": 1,
   "metadata": {},
   "outputs": [
    {
     "name": "stdout",
     "output_type": "stream",
     "text": [
      "Enter Roman NumberLIV\n",
      "54\n"
     ]
    }
   ],
   "source": [
    "r={'I':1,'IV':4,'V':5,'IX':9,'X':10,'XL':40,'L':50,'XC':90,'C':100,'CD':400,'D':500,'CM':900,'M':1000}\n",
    "s=input(\"Enter Roman Number\")\n",
    "n=0\n",
    "i=0\n",
    "while(i<len(s)):\n",
    "    if(i+1<len(s) and s[i:i+2] in r):\n",
    "        n = n + r[s[i:i+2]]\n",
    "        i=i+2\n",
    "    else:\n",
    "        n = n + r[s[i]]\n",
    "        i=i+1\n",
    "print(n)"
   ]
  },
  {
   "cell_type": "code",
   "execution_count": 14,
   "metadata": {},
   "outputs": [
    {
     "name": "stdout",
     "output_type": "stream",
     "text": [
      "DCCXX\n"
     ]
    }
   ],
   "source": [
    "val=[1000,900,500,400,100,90,50,40,10,9,5,4,1]\n",
    "ans=[\"M\",\"CM\",\"D\",\"CD\",\"C\",\"XC\",\"L\",\"XL\",\"X\",\"IX\",\"V\",\"IV\",\"I\"]\n",
    "r=\"\"\n",
    "i=0\n",
    "n=720\n",
    "while n>0:\n",
    "    for j in range(n//val[i]):\n",
    "        r=r+ans[i]\n",
    "        n=n-val[i]\n",
    "    i=i+1\n",
    "print(r)"
   ]
  },
  {
   "cell_type": "code",
   "execution_count": 15,
   "metadata": {},
   "outputs": [
    {
     "name": "stdout",
     "output_type": "stream",
     "text": [
      "DVP\n"
     ]
    }
   ],
   "source": [
    "x=\"Dhruv VinayBhai Parjapati\"\n",
    "y=x.split(\" \")\n",
    "z=\"\"\n",
    "for i in y:\n",
    "    z+=i[0]\n",
    "print(z)"
   ]
  },
  {
   "cell_type": "code",
   "execution_count": null,
   "metadata": {},
   "outputs": [],
   "source": []
  }
 ],
 "metadata": {
  "kernelspec": {
   "display_name": "Python 3",
   "language": "python",
   "name": "python3"
  },
  "language_info": {
   "codemirror_mode": {
    "name": "ipython",
    "version": 3
   },
   "file_extension": ".py",
   "mimetype": "text/x-python",
   "name": "python",
   "nbconvert_exporter": "python",
   "pygments_lexer": "ipython3",
   "version": "3.8.5"
  }
 },
 "nbformat": 4,
 "nbformat_minor": 4
}
