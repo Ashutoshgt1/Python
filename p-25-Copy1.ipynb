{
 "cells": [
  {
   "cell_type": "code",
   "execution_count": 19,
   "metadata": {},
   "outputs": [
    {
     "name": "stdout",
     "output_type": "stream",
     "text": [
      "10\n",
      "20\n",
      "30\n",
      "ABCD\n"
     ]
    }
   ],
   "source": [
    "#class\n",
    "class Abc:\n",
    "    b=10\n",
    "    c=30\n",
    "    d=\"ABCD\"\n",
    "    def display(self):'''Here self is like this in java'''\n",
    "        e=20\n",
    "        print(e)\n",
    "        print(self.c)\n",
    "        return self.d\n",
    "a=Abc()\n",
    "z=Abc()\n",
    "print(a.b)\n",
    "print(a.display())"
   ]
  },
  {
   "cell_type": "code",
   "execution_count": 25,
   "metadata": {},
   "outputs": [
    {
     "name": "stdout",
     "output_type": "stream",
     "text": [
      "Enter A 5\n",
      "Enter B 2\n",
      "Addition is:  17\n",
      "subtraction is:  3\n",
      "multiplication is:  120\n",
      "division is:  2.5\n"
     ]
    }
   ],
   "source": [
    "class Calculator:\n",
    "    c=10\n",
    "    d=12\n",
    "    def add(self,a,b):\n",
    "        return a+b+self.c\n",
    "    def sub(self,a,b):\n",
    "        return a-b\n",
    "    def mul(self,a,b):\n",
    "        return a*b*self.d\n",
    "    def div(self,a,b):\n",
    "        return a/b\n",
    "a=int(input(\"Enter A \"))\n",
    "b=int(input(\"Enter B \"))\n",
    "c=Calculator()\n",
    "print(\"Addition is: \",c.add(a,b))\n",
    "print(\"subtraction is: \",c.sub(a,b))\n",
    "print(\"multiplication is: \",c.mul(a,b))\n",
    "print(\"division is: \",c.div(a,b))"
   ]
  },
  {
   "cell_type": "code",
   "execution_count": 28,
   "metadata": {},
   "outputs": [
    {
     "name": "stdout",
     "output_type": "stream",
     "text": [
      "sum: 30\n",
      "sub: -10\n",
      "mul: 200\n",
      "div: 0.5\n"
     ]
    }
   ],
   "source": [
    "#Constructor\n",
    "class Stu:\n",
    "    def __init__(self,a,b):\n",
    "        self.a=a\n",
    "        self.b=b\n",
    "        print(\"sum:\",self.a+self.b)\n",
    "        print(\"sub:\",self.a-self.b)\n",
    "        print(\"mul:\",self.a*self.b)\n",
    "        print(\"div:\",self.a/self.b)\n",
    "s1=Stu(10,20)"
   ]
  },
  {
   "cell_type": "code",
   "execution_count": 1,
   "metadata": {},
   "outputs": [
    {
     "name": "stdout",
     "output_type": "stream",
     "text": [
      "6\n",
      "10\n"
     ]
    }
   ],
   "source": [
    "#556\n",
    "class NumberSet:\n",
    "    num1=0\n",
    "    num2=0\n",
    "    def __init__(self,a,b):\n",
    "        self.num1=a\n",
    "        self.num2=b\n",
    "t=NumberSet(6,10)\n",
    "print(t.num1)\n",
    "print(t.num2)"
   ]
  },
  {
   "cell_type": "code",
   "execution_count": 6,
   "metadata": {},
   "outputs": [
    {
     "name": "stdout",
     "output_type": "stream",
     "text": [
      "leg: 4\n",
      "arms: 4\n",
      "spider limbs: 8\n"
     ]
    }
   ],
   "source": [
    "#557\n",
    "class Animal:\n",
    "    leg=0\n",
    "    arm=0\n",
    "    def __init__(self,a,b):\n",
    "        self.leg=a\n",
    "        self.arm=b\n",
    "    def limb(self):\n",
    "        return self.arm+self.leg\n",
    "t=Animal(4,4)\n",
    "spider=t\n",
    "spidlimbs=spider.limb()\n",
    "print(\"leg:\",t.leg)\n",
    "print(\"arms:\",t.arm)\n",
    "print(\"spider limbs:\",spidlimbs)"
   ]
  },
  {
   "cell_type": "code",
   "execution_count": 5,
   "metadata": {},
   "outputs": [],
   "source": [
    "class Vehicle:\n",
    "    max_speed=0\n",
    "    mileage=0\n",
    "    def __init__(self,a,b):\n",
    "        self.max_speed=a\n",
    "        self.mileage=b\n",
    "car=Vehicle(300,10)\n",
    "bike=Vehicle(150,30)"
   ]
  },
  {
   "cell_type": "code",
   "execution_count": 9,
   "metadata": {},
   "outputs": [
    {
     "name": "stdout",
     "output_type": "stream",
     "text": [
      "A 1 80 70\n",
      "Enter name b\n",
      "Enter rollno 2\n",
      "Enter marks1 4\n",
      "Enter marks2 5\n",
      "Enter name c\n",
      "Enter rollno 3\n",
      "Enter marks1 6\n",
      "Enter marks2 7\n",
      "A 1 80 70\n",
      "b 2 4 5\n",
      "c 3 6 7\n",
      "Student Found: c\n",
      "A 1 80 70\n",
      "b 2 4 5\n",
      "A 1 80 70\n",
      "b 5 4 5\n"
     ]
    }
   ],
   "source": [
    "#566\n",
    "class Student:\n",
    "    name=\"\"\n",
    "    rollno=0\n",
    "    marks1=0\n",
    "    marks2=0\n",
    "    l=[]\n",
    "    def __init__(self,name,rollno,marks1,marks2):\n",
    "        self.name=name\n",
    "        self.rollno=rollno\n",
    "        self.marks1=marks1\n",
    "        self.marks2=marks2\n",
    "        Student.l.append(self)\n",
    "    def accept(self):\n",
    "        name=input(\"Enter name \")\n",
    "        rollno=int(input(\"Enter rollno \"))\n",
    "        marks1=int(input(\"Enter marks1 \"))\n",
    "        marks2=int(input(\"Enter marks2 \"))\n",
    "        s=Student(name,rollno,marks1,marks2)\n",
    "    def display(self):\n",
    "        for i in Student.l:\n",
    "            print(i.name,i.rollno,i.marks1,i.marks2)\n",
    "    def search(self,s):\n",
    "        f=0\n",
    "        for i in Student.l:\n",
    "            if(i.rollno==s):\n",
    "                f=1\n",
    "                print(\"Student Found:\",i.name)\n",
    "        if(f==0):\n",
    "            print(\"student not found\")\n",
    "    def delete(self,d):\n",
    "        f=0\n",
    "        for i in Student.l:\n",
    "            if(i.rollno==d):\n",
    "                f=1\n",
    "                Student.l.remove(i)\n",
    "        if(f==0):\n",
    "            print(\"student not found\")\n",
    "    def update(self,s,u):\n",
    "        f=0\n",
    "        for i in Student.l:\n",
    "            if(i.rollno==s):\n",
    "                f=1\n",
    "                i.rollno=u\n",
    "        if(f==0):\n",
    "            print(\"student not found\")\n",
    "s1=Student(\"A\",1,80,70)\n",
    "s1.display()\n",
    "s1.accept()\n",
    "s1.accept()\n",
    "s1.display()\n",
    "s1.search(3)\n",
    "s1.delete(3)\n",
    "s1.display()\n",
    "s1.update(2,5)\n",
    "s1.display()"
   ]
  },
  {
   "cell_type": "code",
   "execution_count": null,
   "metadata": {},
   "outputs": [],
   "source": []
  },
  {
   "cell_type": "code",
   "execution_count": null,
   "metadata": {},
   "outputs": [],
   "source": []
  }
 ],
 "metadata": {
  "kernelspec": {
   "display_name": "Python 3",
   "language": "python",
   "name": "python3"
  },
  "language_info": {
   "codemirror_mode": {
    "name": "ipython",
    "version": 3
   },
   "file_extension": ".py",
   "mimetype": "text/x-python",
   "name": "python",
   "nbconvert_exporter": "python",
   "pygments_lexer": "ipython3",
   "version": "3.8.5"
  }
 },
 "nbformat": 4,
 "nbformat_minor": 4
}
