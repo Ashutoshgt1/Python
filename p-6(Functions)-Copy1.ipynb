{
 "cells": [
  {
   "cell_type": "code",
   "execution_count": 11,
   "metadata": {},
   "outputs": [
    {
     "name": "stdout",
     "output_type": "stream",
     "text": [
      "[10, 20, 30, 40, 50]\n",
      "[2, 4]\n",
      "[False, True, False, True, False]\n",
      "15\n"
     ]
    }
   ],
   "source": [
    "from functools import*\n",
    "n=[1,2,3,4,5]\n",
    "sq=list(map(lambda x:x*10,n))\n",
    "sq2=list(filter(lambda x:x%2==0,n))\n",
    "sq3=list(map(lambda x:x%2==0,n))\n",
    "sq4=reduce(lambda x,y:x+y,n)\n",
    "print(sq)\n",
    "print(sq2)\n",
    "print(sq3)\n",
    "print(sq4)"
   ]
  },
  {
   "cell_type": "code",
   "execution_count": 17,
   "metadata": {},
   "outputs": [
    {
     "name": "stdout",
     "output_type": "stream",
     "text": [
      "[(1, 2), (9, 11), (10, 3), (15, 6)]\n",
      "[(1, 2), (10, 3), (15, 6), (9, 11)]\n"
     ]
    }
   ],
   "source": [
    "n=((1,2),(10,3),(9,11),(15,6))\n",
    "print(sorted(n))\n",
    "sq=sorted(n,key=lambda x:x[1])\n",
    "print(sq)"
   ]
  },
  {
   "cell_type": "code",
   "execution_count": 28,
   "metadata": {},
   "outputs": [
    {
     "name": "stdout",
     "output_type": "stream",
     "text": [
      "[2, 30, 84, 90]\n",
      "[30, 84, 90]\n",
      "[90]\n"
     ]
    }
   ],
   "source": [
    "x=[1,2,3,23,30,84,89,65,90]\n",
    "sq=list(filter(lambda x:x%2==0,x))\n",
    "print(sq)\n",
    "sq1=list(filter(lambda x:x%6==0,sq))\n",
    "print(sq1)\n",
    "sq2=list(filter(lambda x:x%90==0,sq1))\n",
    "print(sq2)"
   ]
  },
  {
   "cell_type": "code",
   "execution_count": 25,
   "metadata": {},
   "outputs": [
    {
     "name": "stdout",
     "output_type": "stream",
     "text": [
      "[90]\n"
     ]
    }
   ],
   "source": [
    "x=[1,2,3,23,30,84,89,65,90]\n",
    "sq=list(filter(lambda x:x%2==0 and x%6==0 and x%9==0,x))\n",
    "print(sq)"
   ]
  },
  {
   "cell_type": "code",
   "execution_count": 34,
   "metadata": {},
   "outputs": [
    {
     "name": "stdout",
     "output_type": "stream",
     "text": [
      "Even sum: 20\n",
      "Odd sum: 25\n",
      "[8, 6, 4, 2]\n",
      "[9, 7, 5, 3, 1]\n"
     ]
    }
   ],
   "source": [
    "z=[1,2,3,4,5,6,7,8,9]\n",
    "a=list(filter(lambda x:x%2==0,z))\n",
    "b=list(filter(lambda x:x%2!=0,z))\n",
    "c=reduce(lambda x,y:x+y,a)\n",
    "d=reduce(lambda x,y:x+y,b)\n",
    "print(\"Even sum:\",c)\n",
    "print(\"Odd sum:\",d)\n",
    "print(sorted(a,reverse=True))\n",
    "print(sorted(b,reverse=True))"
   ]
  },
  {
   "cell_type": "code",
   "execution_count": 35,
   "metadata": {},
   "outputs": [],
   "source": [
    "a1=\"One\"\n",
    "a2=\"Two\"\n",
    "a3=\"Three\"\n",
    "a4=\"four\"\n",
    "a5=\"Five\"\n",
    "a6=\"six\"\n",
    "a7=\"Seven\"\n",
    "a8=\"Eigth\"\n",
    "a9=\"nine\"\n",
    "a10=\"Ten\"\n",
    "a=[\"one\",\"Two\",\"Three\",\"Four\",\"Five\",\"Six\",]"
   ]
  },
  {
   "cell_type": "code",
   "execution_count": 23,
   "metadata": {},
   "outputs": [
    {
     "ename": "KeyboardInterrupt",
     "evalue": "Interrupted by user",
     "output_type": "error",
     "traceback": [
      "\u001b[1;31m---------------------------------------------------------------------------\u001b[0m",
      "\u001b[1;31mKeyboardInterrupt\u001b[0m                         Traceback (most recent call last)",
      "\u001b[1;32m<ipython-input-23-c219f336613b>\u001b[0m in \u001b[0;36m<module>\u001b[1;34m\u001b[0m\n\u001b[1;32m----> 1\u001b[1;33m \u001b[0mn\u001b[0m\u001b[1;33m=\u001b[0m\u001b[0mint\u001b[0m\u001b[1;33m(\u001b[0m\u001b[0minput\u001b[0m\u001b[1;33m(\u001b[0m\u001b[1;34m\"Enter Number\"\u001b[0m\u001b[1;33m)\u001b[0m\u001b[1;33m)\u001b[0m\u001b[1;33m\u001b[0m\u001b[1;33m\u001b[0m\u001b[0m\n\u001b[0m\u001b[0;32m      2\u001b[0m \u001b[0mp\u001b[0m\u001b[1;33m=\u001b[0m\u001b[1;34m\"Zero\"\u001b[0m\u001b[1;33m\u001b[0m\u001b[1;33m\u001b[0m\u001b[0m\n\u001b[0;32m      3\u001b[0m a = [\n\u001b[0;32m      4\u001b[0m     \u001b[1;34m\"\"\u001b[0m\u001b[1;33m,\u001b[0m\u001b[1;34m\"One\"\u001b[0m\u001b[1;33m,\u001b[0m \u001b[1;34m\"two\"\u001b[0m\u001b[1;33m,\u001b[0m \u001b[1;34m\"three\"\u001b[0m\u001b[1;33m,\u001b[0m \u001b[1;34m\"four\"\u001b[0m\u001b[1;33m,\u001b[0m \u001b[1;34m\"five\"\u001b[0m\u001b[1;33m,\u001b[0m\u001b[1;33m\u001b[0m\u001b[1;33m\u001b[0m\u001b[0m\n\u001b[0;32m      5\u001b[0m     \u001b[1;34m\"six\"\u001b[0m\u001b[1;33m,\u001b[0m \u001b[1;34m\"seven\"\u001b[0m\u001b[1;33m,\u001b[0m \u001b[1;34m\"eight\"\u001b[0m\u001b[1;33m,\u001b[0m \u001b[1;34m\"nine\"\u001b[0m\u001b[1;33m,\u001b[0m \u001b[1;34m\"ten\"\u001b[0m\u001b[1;33m,\u001b[0m\u001b[1;33m\u001b[0m\u001b[1;33m\u001b[0m\u001b[0m\n",
      "\u001b[1;32mC:\\ProgramData\\Anaconda3\\lib\\site-packages\\ipykernel\\kernelbase.py\u001b[0m in \u001b[0;36mraw_input\u001b[1;34m(self, prompt)\u001b[0m\n\u001b[0;32m    858\u001b[0m                 \u001b[1;34m\"raw_input was called, but this frontend does not support input requests.\"\u001b[0m\u001b[1;33m\u001b[0m\u001b[1;33m\u001b[0m\u001b[0m\n\u001b[0;32m    859\u001b[0m             )\n\u001b[1;32m--> 860\u001b[1;33m         return self._input_request(str(prompt),\n\u001b[0m\u001b[0;32m    861\u001b[0m             \u001b[0mself\u001b[0m\u001b[1;33m.\u001b[0m\u001b[0m_parent_ident\u001b[0m\u001b[1;33m,\u001b[0m\u001b[1;33m\u001b[0m\u001b[1;33m\u001b[0m\u001b[0m\n\u001b[0;32m    862\u001b[0m             \u001b[0mself\u001b[0m\u001b[1;33m.\u001b[0m\u001b[0m_parent_header\u001b[0m\u001b[1;33m,\u001b[0m\u001b[1;33m\u001b[0m\u001b[1;33m\u001b[0m\u001b[0m\n",
      "\u001b[1;32mC:\\ProgramData\\Anaconda3\\lib\\site-packages\\ipykernel\\kernelbase.py\u001b[0m in \u001b[0;36m_input_request\u001b[1;34m(self, prompt, ident, parent, password)\u001b[0m\n\u001b[0;32m    902\u001b[0m             \u001b[1;32mexcept\u001b[0m \u001b[0mKeyboardInterrupt\u001b[0m\u001b[1;33m:\u001b[0m\u001b[1;33m\u001b[0m\u001b[1;33m\u001b[0m\u001b[0m\n\u001b[0;32m    903\u001b[0m                 \u001b[1;31m# re-raise KeyboardInterrupt, to truncate traceback\u001b[0m\u001b[1;33m\u001b[0m\u001b[1;33m\u001b[0m\u001b[1;33m\u001b[0m\u001b[0m\n\u001b[1;32m--> 904\u001b[1;33m                 \u001b[1;32mraise\u001b[0m \u001b[0mKeyboardInterrupt\u001b[0m\u001b[1;33m(\u001b[0m\u001b[1;34m\"Interrupted by user\"\u001b[0m\u001b[1;33m)\u001b[0m \u001b[1;32mfrom\u001b[0m \u001b[1;32mNone\u001b[0m\u001b[1;33m\u001b[0m\u001b[1;33m\u001b[0m\u001b[0m\n\u001b[0m\u001b[0;32m    905\u001b[0m             \u001b[1;32mexcept\u001b[0m \u001b[0mException\u001b[0m \u001b[1;32mas\u001b[0m \u001b[0me\u001b[0m\u001b[1;33m:\u001b[0m\u001b[1;33m\u001b[0m\u001b[1;33m\u001b[0m\u001b[0m\n\u001b[0;32m    906\u001b[0m                 \u001b[0mself\u001b[0m\u001b[1;33m.\u001b[0m\u001b[0mlog\u001b[0m\u001b[1;33m.\u001b[0m\u001b[0mwarning\u001b[0m\u001b[1;33m(\u001b[0m\u001b[1;34m\"Invalid Message:\"\u001b[0m\u001b[1;33m,\u001b[0m \u001b[0mexc_info\u001b[0m\u001b[1;33m=\u001b[0m\u001b[1;32mTrue\u001b[0m\u001b[1;33m)\u001b[0m\u001b[1;33m\u001b[0m\u001b[1;33m\u001b[0m\u001b[0m\n",
      "\u001b[1;31mKeyboardInterrupt\u001b[0m: Interrupted by user"
     ]
    }
   ],
   "source": [
    "n=int(input(\"Enter Number\"))\n",
    "p=\"Zero\"\n",
    "a = [\n",
    "    \"\",\"One\", \"two\", \"three\", \"four\", \"five\", \n",
    "    \"six\", \"seven\", \"eight\", \"nine\", \"ten\", \n",
    "    \"eleven\", \"twelve\", \"thirteen\", \"fourteen\", \"fifteen\", \n",
    "    \"sixteen\", \"seventeen\", \"eighteen\", \"nineteen\", \"twenty\"]\n",
    "b=[\"\",\"\",'twenty', 'thirty', 'forty', 'fifty', 'sixty', 'seventy', 'eighty', 'ninety']\n",
    "crores=\"\"\n",
    "lakhs=\"\"\n",
    "if(n>1000):\n",
    "    thousands=a[n//1000]+\"Thousand\"\n",
    "    n=n%1000\n",
    "else:\n",
    "    thousands=\"\"\n",
    "if(n>100):\n",
    "    hundreds=a[n//100]+\"Hundred\"\n",
    "    n=n%100\n",
    "else:\n",
    "    hundreds=\"\"\n",
    "if (n>20 and n<100):\n",
    "    tens=b[n//10]\n",
    "    n%=10\n",
    "    ones=a[n]\n",
    "    print(crores+\" \"+lakhs+\" \"+thousands+\" \"+hundreds+\" \"+tens+\" \"+ones)\n",
    "elif (n==0):\n",
    "    print(p)\n",
    "else:\n",
    "    print(crores+\" \"+lakhs+\" \"+thousands+\" \"+hundreds+\" \"+a[n])"
   ]
  },
  {
   "cell_type": "code",
   "execution_count": 25,
   "metadata": {},
   "outputs": [
    {
     "name": "stdout",
     "output_type": "stream",
     "text": [
      "Enter Number99999\n"
     ]
    },
    {
     "ename": "IndexError",
     "evalue": "list index out of range",
     "output_type": "error",
     "traceback": [
      "\u001b[1;31m---------------------------------------------------------------------------\u001b[0m",
      "\u001b[1;31mIndexError\u001b[0m                                Traceback (most recent call last)",
      "\u001b[1;32m<ipython-input-25-11da8afd826e>\u001b[0m in \u001b[0;36m<module>\u001b[1;34m\u001b[0m\n\u001b[0;32m     10\u001b[0m \u001b[1;33m\u001b[0m\u001b[0m\n\u001b[0;32m     11\u001b[0m \u001b[1;32mif\u001b[0m\u001b[1;33m(\u001b[0m\u001b[0mn\u001b[0m\u001b[1;33m>\u001b[0m\u001b[1;36m1000\u001b[0m\u001b[1;33m)\u001b[0m\u001b[1;33m:\u001b[0m\u001b[1;33m\u001b[0m\u001b[1;33m\u001b[0m\u001b[0m\n\u001b[1;32m---> 12\u001b[1;33m     \u001b[0mthousands\u001b[0m\u001b[1;33m=\u001b[0m\u001b[0ma\u001b[0m\u001b[1;33m[\u001b[0m\u001b[0mn\u001b[0m\u001b[1;33m//\u001b[0m\u001b[1;36m1000\u001b[0m\u001b[1;33m]\u001b[0m\u001b[1;33m+\u001b[0m\u001b[1;34m\"Thousand\"\u001b[0m\u001b[1;33m\u001b[0m\u001b[1;33m\u001b[0m\u001b[0m\n\u001b[0m\u001b[0;32m     13\u001b[0m     \u001b[0mn\u001b[0m\u001b[1;33m=\u001b[0m\u001b[0mn\u001b[0m\u001b[1;33m%\u001b[0m\u001b[1;36m1000\u001b[0m\u001b[1;33m\u001b[0m\u001b[1;33m\u001b[0m\u001b[0m\n\u001b[0;32m     14\u001b[0m \u001b[1;32melse\u001b[0m\u001b[1;33m:\u001b[0m\u001b[1;33m\u001b[0m\u001b[1;33m\u001b[0m\u001b[0m\n",
      "\u001b[1;31mIndexError\u001b[0m: list index out of range"
     ]
    }
   ],
   "source": [
    "#Roman\n",
    "n=int(input(\"Enter Number\"))\n",
    "p=\"Zero\"\n",
    "a = [\n",
    "    \"\",\"I\", \"II\", \"III\", \"IV\", \"five\", \n",
    "    \"six\", \"seven\", \"eight\", \"nine\", \"ten\", \n",
    "    \"eleven\", \"twelve\", \"thirteen\", \"fourteen\", \"fifteen\", \n",
    "    \"sixteen\", \"seventeen\", \"eighteen\", \"nineteen\", \"twenty\"]\n",
    "b=[\"\",\"\",'twenty', 'thirty', 'forty', 'fifty', 'sixty', 'seventy', 'eighty', 'ninety']\n",
    "\n",
    "if(n>1000):\n",
    "    thousands=a[n//1000]+\"Thousand\"\n",
    "    n=n%1000\n",
    "else:\n",
    "    thousands=\"\"\n",
    "if(n>100):\n",
    "    hundreds=a[n//100]+\"Hundred\"\n",
    "    n=n%100\n",
    "else:\n",
    "    hundreds=\"\"\n",
    "if (n>20 and n<100):\n",
    "    tens=b[n//10]\n",
    "    n%=10\n",
    "    ones=a[n]\n",
    "    print(crores+\" \"+lakhs+\" \"+thousands+\" \"+hundreds+\" \"+tens+\" \"+ones)\n",
    "elif (n==0):\n",
    "    print(p)\n",
    "else:\n",
    "    print(crores+\" \"+lakhs+\" \"+thousands+\" \"+hundreds+\" \"+a[n])"
   ]
  },
  {
   "cell_type": "code",
   "execution_count": null,
   "metadata": {},
   "outputs": [],
   "source": [
    "x=\"Dhruv\"\n",
    "a=\"Virat\"\n",
    "y=set()\n",
    "for i in x:\n",
    "    y.add(i.lower())\n",
    "print(y)\n",
    "b=set()\n",
    "for i in a:\n",
    "    b.add(i.lower())\n",
    "print(b)\n",
    "print(y.symmetric_difference(b))"
   ]
  },
  {
   "cell_type": "code",
   "execution_count": 29,
   "metadata": {},
   "outputs": [
    {
     "name": "stdout",
     "output_type": "stream",
     "text": [
      "Enter Number1234567890\n",
      "One Hundred Twenty Three Crore Forty Five Lakh Sixty Seven Thousand Eight Hundred Ninety\n"
     ]
    }
   ],
   "source": [
    "n = int(input(\"Enter Number\"))\n",
    "p = \"Zero\"\n",
    "\n",
    "a = [\n",
    "    \"\", \"One\", \"Two\", \"Three\", \"Four\", \"Five\", \n",
    "    \"Six\", \"Seven\", \"Eight\", \"Nine\", \"Ten\", \n",
    "    \"Eleven\", \"Twelve\", \"Thirteen\", \"Fourteen\", \"Fifteen\", \n",
    "    \"Sixteen\", \"Seventeen\", \"Eighteen\", \"Nineteen\", \"Twenty\"\n",
    "]\n",
    "\n",
    "b = [\"\", \"\", \"Twenty\", \"Thirty\", \"Forty\", \"Fifty\", \"Sixty\", \"Seventy\", \"Eighty\", \"Ninety\"]\n",
    "\n",
    "# Function to handle numbers in words\n",
    "def convert_to_words(n):\n",
    "    if n == 0:\n",
    "        return p\n",
    "\n",
    "    # To hold the words for different places\n",
    "    result = []\n",
    "\n",
    "    # Handle Crores (10^7)\n",
    "    if n >= 10000000:\n",
    "        crores = n // 10000000\n",
    "        result.append(f\"{convert_to_words(crores)} Crore\")\n",
    "        n %= 10000000\n",
    "    \n",
    "    # Handle Lakhs (10^5)\n",
    "    if n >= 100000:\n",
    "        lakhs = n // 100000\n",
    "        result.append(f\"{convert_to_words(lakhs)} Lakh\")\n",
    "        n %= 100000\n",
    "    \n",
    "    # Handle Thousands (10^3)\n",
    "    if n >= 1000:\n",
    "        thousands = n // 1000\n",
    "        result.append(f\"{convert_to_words(thousands)} Thousand\")\n",
    "        n %= 1000\n",
    "    \n",
    "    # Handle Hundreds (10^2)\n",
    "    if n >= 100:\n",
    "        hundreds = n // 100\n",
    "        result.append(f\"{a[hundreds]} Hundred\")\n",
    "        n %= 100\n",
    "    \n",
    "    # Handle Tens (20 - 99)\n",
    "    if n >= 20:\n",
    "        tens = n // 10\n",
    "        result.append(b[tens])\n",
    "        n %= 10\n",
    "    \n",
    "    # Handle Ones (1 - 19)\n",
    "    if n > 0:\n",
    "        result.append(a[n])\n",
    "    \n",
    "    # Join all parts and return the result\n",
    "    return \" \".join(result).strip()\n",
    "\n",
    "# Input number to words\n",
    "print(convert_to_words(n))\n"
   ]
  },
  {
   "cell_type": "code",
   "execution_count": null,
   "metadata": {},
   "outputs": [],
   "source": []
  },
  {
   "cell_type": "code",
   "execution_count": null,
   "metadata": {},
   "outputs": [],
   "source": []
  }
 ],
 "metadata": {
  "kernelspec": {
   "display_name": "Python 3",
   "language": "python",
   "name": "python3"
  },
  "language_info": {
   "codemirror_mode": {
    "name": "ipython",
    "version": 3
   },
   "file_extension": ".py",
   "mimetype": "text/x-python",
   "name": "python",
   "nbconvert_exporter": "python",
   "pygments_lexer": "ipython3",
   "version": "3.8.5"
  }
 },
 "nbformat": 4,
 "nbformat_minor": 4
}
