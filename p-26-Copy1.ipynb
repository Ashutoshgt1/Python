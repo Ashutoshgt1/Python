{
 "cells": [
  {
   "cell_type": "code",
   "execution_count": 14,
   "metadata": {},
   "outputs": [
    {
     "name": "stdout",
     "output_type": "stream",
     "text": [
      "Enter words for list or enter end to end the list ab\n",
      "Enter words for list or enter end to end the list bc\n",
      "Enter words for list or enter end to end the list end\n",
      "Enter string 1 ab\n",
      "['ab']\n",
      "Enter string 2 xy\n",
      "[]\n"
     ]
    }
   ],
   "source": [
    "class WordPlay:\n",
    "    l=[]\n",
    "    l2=[]\n",
    "    def __init__(self,L):\n",
    "        for i in L:\n",
    "            self.l.append(i)\n",
    "    def words_with_length(self,length):\n",
    "        for i in WordPlay.l:\n",
    "            if(len(i)==length):\n",
    "                self.l2.append(i)\n",
    "        return WordPlay.l2\n",
    "    def starts_with_char(self,char1):\n",
    "        l3=[]\n",
    "        for i in WordPlay.l:\n",
    "            if i.startswith(char1):\n",
    "                l3.append(i)\n",
    "        return l3\n",
    "    def ends_with_char(self,char2):\n",
    "        l4=[]\n",
    "        for i in WordPlay.l:\n",
    "            if (i.endswith(char2)):\n",
    "                l4.append(i)\n",
    "        return l4\n",
    "    def only(self,str1):\n",
    "        l5=[]\n",
    "        s2=set()\n",
    "        for k in str1:\n",
    "            s2.add(k)\n",
    "        for i in WordPlay.l:\n",
    "            s=set()\n",
    "            for j in i:\n",
    "                s.add(j)\n",
    "            if s2==s.intersection(s2):\n",
    "                l5.append(i)\n",
    "        return l5\n",
    "    def avoid(self,str2):\n",
    "        l6=[]\n",
    "        s2=set()\n",
    "        for k in str2:\n",
    "            s2.add(k)\n",
    "        for i in WordPlay.l:\n",
    "            s=set()\n",
    "            for j in i:\n",
    "                s.add(j)\n",
    "            if s.intersection(s2)==\"\":\n",
    "                l6.append(i)\n",
    "                print(l6)\n",
    "        return l6        \n",
    "                    \n",
    "L=[]\n",
    "n=\"\"\n",
    "while(n!=\"end\"):\n",
    "    n=input(\"Enter words for list or enter end to end the list \")\n",
    "    L.append(n)\n",
    "u=WordPlay(L)\n",
    "'''length=int(input(\"Enter length of words to be printed \"))\n",
    "print(u.words_with_length(length))\n",
    "char1=input(\"enter character to starts with \")\n",
    "print(u.starts_with_char(char1))\n",
    "char2=input(\"enter character to ends with \")\n",
    "print(u.ends_with_char(char2))'''\n",
    "str1=input(\"Enter string 1 \")\n",
    "print(u.only(str1))\n",
    "str2=input(\"Enter string 2 \")\n",
    "print(u.avoid(str2))"
   ]
  },
  {
   "cell_type": "code",
   "execution_count": 15,
   "metadata": {},
   "outputs": [
    {
     "name": "stdout",
     "output_type": "stream",
     "text": [
      "{1, 2, 3}\n"
     ]
    }
   ],
   "source": [
    "d1={1,2,3}\n",
    "d2=d1\n",
    "print(d2)"
   ]
  },
  {
   "cell_type": "code",
   "execution_count": 33,
   "metadata": {},
   "outputs": [
    {
     "name": "stdout",
     "output_type": "stream",
     "text": [
      "Enter no of items1\n",
      "Enter code of item milk\n",
      "Enter cost of item 30\n",
      "{'milk': 30}\n"
     ]
    },
    {
     "ename": "KeyError",
     "evalue": "0",
     "output_type": "error",
     "traceback": [
      "\u001b[1;31m---------------------------------------------------------------------------\u001b[0m",
      "\u001b[1;31mKeyError\u001b[0m                                  Traceback (most recent call last)",
      "\u001b[1;32m<ipython-input-33-314c618d5e67>\u001b[0m in \u001b[0;36m<module>\u001b[1;34m\u001b[0m\n\u001b[0;32m     26\u001b[0m     \u001b[0ms\u001b[0m\u001b[1;33m=\u001b[0m\u001b[0mStore\u001b[0m\u001b[1;33m(\u001b[0m\u001b[0mcode\u001b[0m\u001b[1;33m,\u001b[0m\u001b[0mcost\u001b[0m\u001b[1;33m)\u001b[0m\u001b[1;33m\u001b[0m\u001b[1;33m\u001b[0m\u001b[0m\n\u001b[0;32m     27\u001b[0m \u001b[0ms\u001b[0m\u001b[1;33m.\u001b[0m\u001b[0mdisplay\u001b[0m\u001b[1;33m(\u001b[0m\u001b[1;33m)\u001b[0m\u001b[1;33m\u001b[0m\u001b[1;33m\u001b[0m\u001b[0m\n\u001b[1;32m---> 28\u001b[1;33m \u001b[0ms\u001b[0m\u001b[1;33m.\u001b[0m\u001b[0mbill\u001b[0m\u001b[1;33m(\u001b[0m\u001b[0mn\u001b[0m\u001b[1;33m)\u001b[0m\u001b[1;33m\u001b[0m\u001b[1;33m\u001b[0m\u001b[0m\n\u001b[0m",
      "\u001b[1;32m<ipython-input-33-314c618d5e67>\u001b[0m in \u001b[0;36mbill\u001b[1;34m(self, n)\u001b[0m\n\u001b[0;32m     10\u001b[0m         \u001b[0msum\u001b[0m\u001b[1;33m=\u001b[0m\u001b[1;36m0\u001b[0m\u001b[1;33m\u001b[0m\u001b[1;33m\u001b[0m\u001b[0m\n\u001b[0;32m     11\u001b[0m         \u001b[1;32mfor\u001b[0m \u001b[0mi\u001b[0m \u001b[1;32min\u001b[0m \u001b[0mrange\u001b[0m\u001b[1;33m(\u001b[0m\u001b[1;36m0\u001b[0m\u001b[1;33m,\u001b[0m\u001b[0mn\u001b[0m\u001b[1;33m,\u001b[0m\u001b[1;36m1\u001b[0m\u001b[1;33m)\u001b[0m\u001b[1;33m:\u001b[0m\u001b[1;33m\u001b[0m\u001b[1;33m\u001b[0m\u001b[0m\n\u001b[1;32m---> 12\u001b[1;33m             \u001b[0ma\u001b[0m\u001b[1;33m=\u001b[0m\u001b[0mint\u001b[0m\u001b[1;33m(\u001b[0m\u001b[0minput\u001b[0m\u001b[1;33m(\u001b[0m\u001b[1;34m\"Enter quantity for:\"\u001b[0m\u001b[1;33m,\u001b[0m\u001b[0mStore\u001b[0m\u001b[1;33m.\u001b[0m\u001b[0md1\u001b[0m\u001b[1;33m[\u001b[0m\u001b[0mi\u001b[0m\u001b[1;33m]\u001b[0m\u001b[1;33m.\u001b[0m\u001b[0mkeys\u001b[0m\u001b[1;33m)\u001b[0m\u001b[1;33m)\u001b[0m\u001b[1;33m\u001b[0m\u001b[1;33m\u001b[0m\u001b[0m\n\u001b[0m\u001b[0;32m     13\u001b[0m             \u001b[0md2\u001b[0m\u001b[1;33m.\u001b[0m\u001b[0mupdate\u001b[0m\u001b[1;33m(\u001b[0m\u001b[1;33m{\u001b[0m\u001b[0mStore\u001b[0m\u001b[1;33m.\u001b[0m\u001b[0md1\u001b[0m\u001b[1;33m[\u001b[0m\u001b[0mi\u001b[0m\u001b[1;33m]\u001b[0m\u001b[1;33m.\u001b[0m\u001b[0mkey\u001b[0m\u001b[1;33m:\u001b[0m\u001b[0ma\u001b[0m\u001b[1;33m}\u001b[0m\u001b[1;33m)\u001b[0m\u001b[1;33m\u001b[0m\u001b[1;33m\u001b[0m\u001b[0m\n\u001b[0;32m     14\u001b[0m         \u001b[0mprint\u001b[0m\u001b[1;33m(\u001b[0m\u001b[1;34m\"***************Bill***************\"\u001b[0m\u001b[1;33m)\u001b[0m\u001b[1;33m\u001b[0m\u001b[1;33m\u001b[0m\u001b[0m\n",
      "\u001b[1;31mKeyError\u001b[0m: 0"
     ]
    }
   ],
   "source": [
    "class Store:\n",
    "    d1={}\n",
    "    def __init__(self,code,cost):\n",
    "        self.d1.update({code:cost})\n",
    "    def display(self):\n",
    "        print(Store.d1)\n",
    "    def bill(self,n):\n",
    "        d2={}\n",
    "        amount=0\n",
    "        sum=0\n",
    "        for i in range(0,n,1):\n",
    "            a=int(input(\"Enter quantity for:\",Store.d1[i].keys))\n",
    "            d2.update({Store.d1[i].key:a})\n",
    "        print(\"***************Bill***************\")\n",
    "        for i in range(0,n,1):\n",
    "            print(Store.d1[i].key,Store.d1[i].value,d2[i].values)\n",
    "            amount=Store.d1[i].value*d2[i].value\n",
    "        print(\"**********************************\")\n",
    "        sum+=amount\n",
    "        print(\"Total:\",sum)\n",
    "n=int(input(\"Enter no of items\"))\n",
    "d={}\n",
    "for i in range(0,n,1):\n",
    "    code=input(\"Enter code of item \")\n",
    "    cost=int(input(\"Enter cost of item \"))\n",
    "    s=Store(code,cost)\n",
    "s.display()\n",
    "s.bill(n)"
   ]
  },
  {
   "cell_type": "code",
   "execution_count": null,
   "metadata": {},
   "outputs": [],
   "source": []
  }
 ],
 "metadata": {
  "kernelspec": {
   "display_name": "Python 3",
   "language": "python",
   "name": "python3"
  },
  "language_info": {
   "codemirror_mode": {
    "name": "ipython",
    "version": 3
   },
   "file_extension": ".py",
   "mimetype": "text/x-python",
   "name": "python",
   "nbconvert_exporter": "python",
   "pygments_lexer": "ipython3",
   "version": "3.8.5"
  }
 },
 "nbformat": 4,
 "nbformat_minor": 4
}
