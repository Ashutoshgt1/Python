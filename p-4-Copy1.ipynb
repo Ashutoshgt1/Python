{
 "cells": [
  {
   "cell_type": "code",
   "execution_count": 7,
   "metadata": {
    "scrolled": true
   },
   "outputs": [
    {
     "name": "stdout",
     "output_type": "stream",
     "text": [
      "palindrome\n"
     ]
    }
   ],
   "source": [
    "x=\"naman\"\n",
    "if(x[::-1]==x):\n",
    "    print(\"palindrome\")\n",
    "else:\n",
    "    print(\"not a palindrome\")\n",
    "    "
   ]
  },
  {
   "cell_type": "code",
   "execution_count": 8,
   "metadata": {
    "scrolled": true
   },
   "outputs": [
    {
     "name": "stdout",
     "output_type": "stream",
     "text": [
      "Enter index to remove1\n",
      "Druv\n"
     ]
    }
   ],
   "source": [
    "#slicing by index\n",
    "x=\"Dhruv\"\n",
    "i=int(input(\"Enter index to remove \"))\n",
    "print(x[0:i]+x[i+1:])"
   ]
  },
  {
   "cell_type": "code",
   "execution_count": 10,
   "metadata": {},
   "outputs": [
    {
     "name": "stdout",
     "output_type": "stream",
     "text": [
      "Happy N\n",
      "ew Year\n"
     ]
    }
   ],
   "source": [
    "x=\"Happy New Year\"\n",
    "print(x[0:len(x)//2:])\n",
    "print(x[(len(x)//2)::])"
   ]
  },
  {
   "cell_type": "code",
   "execution_count": 1,
   "metadata": {},
   "outputs": [
    {
     "name": "stdout",
     "output_type": "stream",
     "text": [
      "enter password abcd2jhjhx\n",
      "Password must contain @\n"
     ]
    }
   ],
   "source": [
    "x=str(input(\"enter password \"))\n",
    "\n",
    "if(len(x)>=8):\n",
    "    if(x.isupper):\n",
    "        if(x.isnumeric):\n",
    "            if(\"@\" in x):\n",
    "                print(\"Your password is valid\")\n",
    "            else:\n",
    "                print(\"Password must contain @\")\n",
    "        else:\n",
    "            print(\"must enter atleast one digit\")\n",
    "    else:\n",
    "        print(\"Password must contain one capital\")\n",
    "else:\n",
    "    print(\"Enter more than 8 digit\")"
   ]
  },
  {
   "cell_type": "code",
   "execution_count": 1,
   "metadata": {},
   "outputs": [
    {
     "name": "stdout",
     "output_type": "stream",
     "text": [
      "enter password Abcd@4654\n"
     ]
    }
   ],
   "source": [
    "x=str(input(\"enter password \"))\n",
    "y,a,d=0,0,0\n",
    "if(len(x)>=8):\n",
    "    for i in x:\n",
    "        if(i.isupper()):\n",
    "            y=y+1\n",
    "            break\n",
    "        if(i.isnumeric()):\n",
    "            d=d+1\n",
    "            break\n",
    "        if(\"@\" in i):\n",
    "            a=a+1\n",
    "            break\n",
    "elif(y==1 and a==1 and d==1):\n",
    "    print(\"Strong\")\n",
    "else:\n",
    "    print(\"Weak\")"
   ]
  },
  {
   "cell_type": "code",
   "execution_count": 5,
   "metadata": {},
   "outputs": [
    {
     "name": "stdout",
     "output_type": "stream",
     "text": [
      "A3\n",
      "is\n",
      "a\n",
      "Scholar\n",
      "batch\n"
     ]
    }
   ],
   "source": [
    "x=\"A3 is a Scholar batch\"\n",
    "y=x.split(\" \")\n",
    "for i in y:\n",
    "    print(i)\n",
    "        "
   ]
  },
  {
   "cell_type": "code",
   "execution_count": 9,
   "metadata": {},
   "outputs": [
    {
     "name": "stdout",
     "output_type": "stream",
     "text": [
      " A3 IS AA ScholaR BatcH \n"
     ]
    }
   ],
   "source": [
    "x=\"A3 is a Scholar batch\"\n",
    "y=x.split(\" \")\n",
    "z=\" \"\n",
    "for i in y:\n",
    "    a=len(i)\n",
    "    z=z+(i[0].upper()+i[1:a-1]+i[a-1].upper()+\" \")\n",
    "print(z)"
   ]
  },
  {
   "cell_type": "code",
   "execution_count": 16,
   "metadata": {},
   "outputs": [
    {
     "name": "stdout",
     "output_type": "stream",
     "text": [
      "ThiS IS A BoY \n"
     ]
    }
   ],
   "source": [
    "x=\"this is a boy\"\n",
    "y=x.title()\n",
    "z=y.split(\" \")\n",
    "r=\"\"\n",
    "for i in z:\n",
    "    r=(r+i[:-1]+i[-1].upper()+\" \")\n",
    "print(r)"
   ]
  },
  {
   "cell_type": "code",
   "execution_count": 12,
   "metadata": {},
   "outputs": [
    {
     "name": "stdout",
     "output_type": "stream",
     "text": [
      "123456\n"
     ]
    }
   ],
   "source": [
    "x=\"123456\"\n",
    "a=x.replace(x[0:2:1],x[len(x)-1:len(x)-3:-1])\n",
    "b=x.replace(x[len(x)-1:len(x)-3:-1],x[0:2:1])\n",
    "print(b)"
   ]
  },
  {
   "cell_type": "code",
   "execution_count": null,
   "metadata": {},
   "outputs": [],
   "source": []
  }
 ],
 "metadata": {
  "kernelspec": {
   "display_name": "Python 3",
   "language": "python",
   "name": "python3"
  },
  "language_info": {
   "codemirror_mode": {
    "name": "ipython",
    "version": 3
   },
   "file_extension": ".py",
   "mimetype": "text/x-python",
   "name": "python",
   "nbconvert_exporter": "python",
   "pygments_lexer": "ipython3",
   "version": "3.8.5"
  }
 },
 "nbformat": 4,
 "nbformat_minor": 4
}
