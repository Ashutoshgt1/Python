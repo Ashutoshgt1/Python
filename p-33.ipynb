{
 "cells": [
  {
   "cell_type": "code",
   "execution_count": 6,
   "metadata": {},
   "outputs": [
    {
     "name": "stdout",
     "output_type": "stream",
     "text": [
      "name: abc\n",
      "email: abc123@gmail.com\n",
      "[['abc', 'abc123@gmail.com']]\n",
      "Enter students name to addxyz\n",
      "Enter students email to addxyz123\n",
      "name: xyz\n",
      "email: xyz123\n",
      "[['abc', 'abc123@gmail.com'], ['xyz', 'xyz123']]\n",
      "Enter students name to removeabc\n",
      "Student Found\n",
      "name: xyz\n",
      "email: xyz123\n",
      "[['xyz', 'xyz123']]\n"
     ]
    }
   ],
   "source": [
    "#pb:-673\n",
    "class Student:\n",
    "    name=\"\"\n",
    "    email=\"\"\n",
    "    def __init__(self,name,email):\n",
    "        self.name=name\n",
    "        self.email=email\n",
    "    def put_data(self):\n",
    "        print(\"name:\",self.name)\n",
    "        print(\"email:\",self.email)\n",
    "class PhDguide(Student):\n",
    "    students=[]\n",
    "    def __init__(self,name,email):\n",
    "        self.name=name\n",
    "        self.email=email\n",
    "        self.students.append([self.name,self.email])\n",
    "    def put_data(self):\n",
    "        super().put_data()\n",
    "        print(self.students)\n",
    "    def add(self):\n",
    "        a,b=\"\",\"\"\n",
    "        self.a=input(\"Enter students name to add\")\n",
    "        self.b=input(\"Enter students email to add\")\n",
    "        super().__init__(self.a,self.b)\n",
    "        self.students.append([self.a,self.b])\n",
    "    def remove(self):\n",
    "        f=0\n",
    "        c=input(\"Enter students name to remove\")\n",
    "        for i in self.students:\n",
    "            if i[0]==c:\n",
    "                f=1\n",
    "                print(\"Student Found\")\n",
    "                self.students.remove(i)\n",
    "        if f==0:\n",
    "            print(\"Student not found\")\n",
    "p=PhDguide(\"abc\",\"abc123@gmail.com\")\n",
    "p.put_data()\n",
    "p.add()\n",
    "p.put_data()\n",
    "p.remove()\n",
    "p.put_data()"
   ]
  },
  {
   "cell_type": "code",
   "execution_count": 9,
   "metadata": {},
   "outputs": [
    {
     "name": "stdout",
     "output_type": "stream",
     "text": [
      "Enter x coordinate of 1st point2\n",
      "Enter y coordinate of 1st point4\n",
      "Enter x coordinate of 2nd point3\n",
      "Enter y coordinate of 2nd point5\n",
      "slope: 1.0\n",
      "distance: 1.4142135623730951\n"
     ]
    }
   ],
   "source": [
    "import math\n",
    "x1=float(input(\"Enter x coordinate of 1st point\"))\n",
    "y1=float(input(\"Enter y coordinate of 1st point\"))\n",
    "x2=float(input(\"Enter x coordinate of 2nd point\"))\n",
    "y2=float(input(\"Enter y coordinate of 2nd point\"))\n",
    "slope=((y2-y1)/(x2-x1))\n",
    "distance=math.sqrt(((x2-x1)**2)+((y2-y1)**2))\n",
    "print(\"slope:\",slope)\n",
    "print(\"distance:\",distance)"
   ]
  },
  {
   "cell_type": "code",
   "execution_count": 15,
   "metadata": {},
   "outputs": [
    {
     "name": "stdout",
     "output_type": "stream",
     "text": [
      "signal: Green\n"
     ]
    }
   ],
   "source": [
    "class Signal:\n",
    "    signal=\"Red\"\n",
    "    def abc(self,no_of_vehicle):\n",
    "        if no_of_vehicle>=10:\n",
    "            signal=\"Green\"\n",
    "        else: \n",
    "            signal=\"Red\"\n",
    "        print(\"signal:\",signal)\n",
    "s=Signal()\n",
    "s.abc(10)"
   ]
  },
  {
   "cell_type": "code",
   "execution_count": null,
   "metadata": {},
   "outputs": [],
   "source": [
    "#pb:-680\n",
    "class Student:\n",
    "    roll_no=0\n",
    "    name=\"\"\n",
    "    age=0\n",
    "    total_marks=0\n",
    "    l=[]\n",
    "    def __init__(self,roll_no,name,age,total_marks):\n",
    "        self.roll_no=roll_no\n",
    "        self.name=name\n",
    "        self.age=age\n",
    "        self.total_marks=total_marks\n",
    "        l.append([self.roll_no,self.name,self.age,self.total_marks])\n",
    "    def display(self):\n",
    "        print(\"rollno:\",roll_no)\n",
    "        print(\"name:\",name)\n",
    "        print(\"age:\",age)\n",
    "        print(\"total_marks:\",total_marks)\n",
    "    def operator(self):\n",
    "        a=int(input(\"Enter Marks to compare\"))\n",
    "        for i in self.l:\n",
    "            for j in (1,len(self.l),1):\n",
    "                if i[3]==j[3]:\n",
    "                    print(l[i],\"==\",l[j])\n",
    "s=Student()"
   ]
  },
  {
   "cell_type": "code",
   "execution_count": 23,
   "metadata": {},
   "outputs": [
    {
     "name": "stdout",
     "output_type": "stream",
     "text": [
      "result: 30\n",
      "img: 6\n"
     ]
    }
   ],
   "source": [
    "class C:\n",
    "    def __init__(self,r,i):\n",
    "        self.r=r\n",
    "        self.i=i\n",
    "    def __add__(self,other):\n",
    "        result=self.r+other.r\n",
    "        img=self.i+other.i\n",
    "        print(\"result:\",result)\n",
    "        print(\"img:\",img)\n",
    "c1=C(10,2)\n",
    "c2=C(20,4)\n",
    "c1+c2"
   ]
  },
  {
   "cell_type": "code",
   "execution_count": 25,
   "metadata": {},
   "outputs": [
    {
     "name": "stdout",
     "output_type": "stream",
     "text": [
      "result: 30\n",
      "img: 6\n",
      "x1: 600\n",
      "y1: 5000\n"
     ]
    }
   ],
   "source": [
    "#multiples value is possible but only 2 object are possible\n",
    "class C:\n",
    "    def __init__(self,r,i,x,y):\n",
    "        self.r=r\n",
    "        self.i=i\n",
    "        self.x=x\n",
    "        self.y=y\n",
    "    def __add__(self,other):\n",
    "        result=self.r+other.r\n",
    "        img=self.i+other.i\n",
    "        x1=self.x+other.x\n",
    "        y1=self.y+other.y\n",
    "        print(\"result:\",result)\n",
    "        print(\"img:\",img)\n",
    "        print(\"x1:\",x1)\n",
    "        print(\"y1:\",y1)\n",
    "c1=C(10,2,100,3000)\n",
    "c2=C(20,4,500,2000)\n",
    "c1+c2"
   ]
  },
  {
   "cell_type": "code",
   "execution_count": 28,
   "metadata": {},
   "outputs": [
    {
     "name": "stdout",
     "output_type": "stream",
     "text": [
      "result: 215.25\n",
      "img: 10.12\n"
     ]
    }
   ],
   "source": [
    "class C:\n",
    "    def __init__(self,r,i):\n",
    "        self.r=r\n",
    "        self.i=i\n",
    "    def __mul__(self,other):\n",
    "        result=self.r*other.r\n",
    "        img=self.i*other.i\n",
    "        print(\"result:\",result)\n",
    "        print(\"img:\",img)\n",
    "c1=C(10.5,2.3)\n",
    "c2=C(20.5,4.4)\n",
    "c1*c2"
   ]
  },
  {
   "cell_type": "code",
   "execution_count": 47,
   "metadata": {},
   "outputs": [
    {
     "name": "stdout",
     "output_type": "stream",
     "text": [
      "item: milk Price: 30 Stock: 2\n",
      "Do you want to enter this item in cart: no\n",
      "item: bread Price: 25 Stock: 1\n",
      "Do you want to enter this item in cart: yes\n",
      "Enter Quatity:1\n",
      "item: butter Price: 100 Stock: 0\n",
      "Do you want to enter this item in cart: yes\n",
      "Enter Quatity:1\n",
      "Out of Stock\n",
      "Available quantity is: 0 Only\n",
      "item: cheese Price: 50 Stock: 2\n",
      "Do you want to enter this item in cart: yes\n",
      "Enter Quatity:1\n",
      "item: jam Price: 80 Stock: 1\n",
      "Do you want to enter this item in cart: yes\n",
      "Enter Quatity:1\n",
      "------------Your Cart-------------\n",
      "item: bread Price: 25 Quantity: 1\n",
      "item: cheese Price: 50 Quantity: 1\n",
      "item: jam Price: 80 Quantity: 1\n",
      "Total: 155.0\n"
     ]
    }
   ],
   "source": [
    "class Myexception(Exception):\n",
    "    pass\n",
    "class Cart:\n",
    "    d={\"milk\":(30,2),\"bread\":(25,1),\"butter\":(100,0),\"cheese\":(50,2),\"jam\":(80,1)}\n",
    "    item=\"\"\n",
    "    price=\"\"\n",
    "    cart=[]\n",
    "    def add(self):\n",
    "        for i,j in self.d.items():\n",
    "            print(\"item:\",i,\"Price:\",j[0],\"Stock:\",j[1])\n",
    "            a=input(\"Do you want to enter this item in cart: \")\n",
    "            if a==\"yes\":\n",
    "                try:\n",
    "                    q=int(input(\"Enter Quatity:\"))\n",
    "                    if q>j[1]:\n",
    "                        print(\"Out of Stock\")\n",
    "                        raise Myexception\n",
    "                except Myexception:\n",
    "                    print(\"Available quantity is:\",j[1],\"Only\")\n",
    "                else:\n",
    "                    self.cart.append([i,j[0],q])\n",
    "        self.bill()\n",
    "    def bill(self):\n",
    "        total=0.0\n",
    "        print(\"------------Your Cart-------------\")\n",
    "        for i in self.cart:\n",
    "            print(\"item:\",i[0],\"Price:\",i[1],\"Quantity:\",i[2])\n",
    "            total=total+(i[1]*i[2])\n",
    "        print(\"Total:\",total)\n",
    "c=Cart()\n",
    "c.add()"
   ]
  },
  {
   "cell_type": "code",
   "execution_count": null,
   "metadata": {},
   "outputs": [],
   "source": []
  },
  {
   "cell_type": "code",
   "execution_count": null,
   "metadata": {},
   "outputs": [],
   "source": []
  }
 ],
 "metadata": {
  "kernelspec": {
   "display_name": "Python 3",
   "language": "python",
   "name": "python3"
  }
 },
 "nbformat": 4,
 "nbformat_minor": 4
}
