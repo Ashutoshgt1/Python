{
 "cells": [
  {
   "cell_type": "code",
   "execution_count": 4,
   "metadata": {},
   "outputs": [
    {
     "name": "stdout",
     "output_type": "stream",
     "text": [
      "(array([1, 1, 2, 2, 2], dtype=int64), array([1, 2, 0, 1, 2], dtype=int64))\n"
     ]
    }
   ],
   "source": [
    "import numpy as np\n",
    "x=np.arange(0,9).reshape(3,3)\n",
    "print(np.where(x>3))\n",
    "#output [rows] , dtype int, [columns]"
   ]
  },
  {
   "cell_type": "code",
   "execution_count": 5,
   "metadata": {},
   "outputs": [
    {
     "name": "stdout",
     "output_type": "stream",
     "text": [
      "[['A6' 'A6' 'A6']\n",
      " ['A6' 'A6' 'c8']\n",
      " ['c8' 'c8' 'c8']]\n"
     ]
    }
   ],
   "source": [
    "import numpy as np\n",
    "x=np.arange(0,9).reshape(3,3)\n",
    "print(np.where(x>4,\"c8\",\"A6\"))"
   ]
  },
  {
   "cell_type": "code",
   "execution_count": 18,
   "metadata": {},
   "outputs": [
    {
     "name": "stdout",
     "output_type": "stream",
     "text": [
      "[[52 10 27 71  4]\n",
      " [27 51 67  1  6]\n",
      " [89 78 73  0 39]\n",
      " [ 2 96 78 83 48]\n",
      " [75 20 13 83 86]]\n",
      "(array([0, 0, 1, 1, 2, 2, 2, 3, 3, 3, 4, 4, 4], dtype=int64), array([0, 3, 1, 2, 0, 1, 2, 1, 2, 3, 0, 3, 4], dtype=int64))\n"
     ]
    }
   ],
   "source": [
    "import numpy as np\n",
    "import random\n",
    "x=np.random.randint(100,size=(5,5))\n",
    "print(x)\n",
    "print(np.where(x>50))"
   ]
  },
  {
   "cell_type": "code",
   "execution_count": 19,
   "metadata": {},
   "outputs": [
    {
     "name": "stdout",
     "output_type": "stream",
     "text": [
      "16\n"
     ]
    }
   ],
   "source": [
    "import numpy as np\n",
    "import random\n",
    "x=np.random.randint(2,20)\n",
    "print(x)"
   ]
  },
  {
   "cell_type": "code",
   "execution_count": 20,
   "metadata": {},
   "outputs": [
    {
     "name": "stdout",
     "output_type": "stream",
     "text": [
      "[[0 1 0 1 1 1 0 1 1 0]\n",
      " [0 1 1 0 0 0 1 0 1 1]\n",
      " [0 1 0 1 0 1 1 1 0 1]\n",
      " [1 1 1 1 0 1 1 1 1 0]\n",
      " [1 1 0 1 1 0 1 0 1 0]\n",
      " [1 0 1 1 0 0 1 1 1 0]\n",
      " [0 1 1 1 0 0 1 0 1 1]\n",
      " [0 0 1 1 0 0 0 1 1 0]\n",
      " [1 1 1 1 0 1 0 1 0 0]\n",
      " [0 0 1 0 0 1 0 1 1 0]]\n"
     ]
    }
   ],
   "source": [
    "#10x10 with 0 and 1 only\n",
    "import numpy as np\n",
    "import random\n",
    "x=np.random.randint(2,size=(10,10))\n",
    "print(x)"
   ]
  },
  {
   "cell_type": "code",
   "execution_count": 25,
   "metadata": {},
   "outputs": [
    {
     "name": "stdout",
     "output_type": "stream",
     "text": [
      "[[0 0 0 0 0 0 0 0 0 0]\n",
      " [0 0 0 0 0 0 0 0 0 0]\n",
      " [0 0 0 0 0 0 0 0 0 0]\n",
      " [0 0 0 0 0 0 0 0 0 0]\n",
      " [0 0 0 0 0 0 0 0 0 0]\n",
      " [0 0 0 0 0 0 0 0 0 0]\n",
      " [0 0 0 0 0 0 0 0 0 0]\n",
      " [0 0 0 0 0 0 0 0 0 0]\n",
      " [0 0 0 0 0 0 0 0 0 0]\n",
      " [0 0 0 0 0 0 0 0 0 0]]\n"
     ]
    }
   ],
   "source": [
    "#10x10 with 1 only\n",
    "import numpy as np\n",
    "x=np.zeros((10,10),dtype=int)\n",
    "print(x)"
   ]
  },
  {
   "cell_type": "code",
   "execution_count": 26,
   "metadata": {},
   "outputs": [
    {
     "name": "stdout",
     "output_type": "stream",
     "text": [
      "[[1 1 1]\n",
      " [1 1 0]\n",
      " [0 0 0]]\n"
     ]
    }
   ],
   "source": [
    "import numpy as np\n",
    "x=np.arange(0,9).reshape(3,3)\n",
    "print(np.where(x>4,0,1))"
   ]
  },
  {
   "cell_type": "code",
   "execution_count": 28,
   "metadata": {},
   "outputs": [
    {
     "name": "stdout",
     "output_type": "stream",
     "text": [
      "[[1 1 1]\n",
      " [1 1 1]\n",
      " [1 1 1]]\n"
     ]
    }
   ],
   "source": [
    "#3x3 with 1 only\n",
    "import numpy as np\n",
    "x=np.ones((3,3),dtype=int)\n",
    "print(x)"
   ]
  },
  {
   "cell_type": "code",
   "execution_count": 30,
   "metadata": {},
   "outputs": [
    {
     "name": "stdout",
     "output_type": "stream",
     "text": [
      "[[1 2 3]\n",
      " [4 5 6]\n",
      " [7 8 9]]\n",
      "[7 8 9]\n",
      "[3 6 9]\n",
      "[1 2 3]\n",
      "[1 2 3]\n"
     ]
    }
   ],
   "source": [
    "import numpy as np\n",
    "x=np.arange(1,10).reshape(3,3)\n",
    "print(x)\n",
    "print(np.max(x,axis=0))\n",
    "print(np.max(x,axis=1))\n",
    "print(np.min(x,axis=0))\n",
    "print(np.min(x,axis=0))"
   ]
  },
  {
   "cell_type": "code",
   "execution_count": 43,
   "metadata": {},
   "outputs": [
    {
     "name": "stdout",
     "output_type": "stream",
     "text": [
      "[ 0.   12.   45.21 34.   99.91 32.  ]\n",
      "[-17.77777778 -11.11111111   7.33888889   1.11111111  37.72777778\n",
      "   0.        ]\n",
      "[-17.77777778 -11.11111111   0.           1.11111111   7.33888889\n",
      "  37.72777778]\n",
      "(array([2], dtype=int64),)\n"
     ]
    }
   ],
   "source": [
    "#688\n",
    "import numpy as np\n",
    "F=np.array([0, 12, 45.21, 34, 99.91, 32])\n",
    "C=5*F/9-5*32/9\n",
    "print(F)\n",
    "print(C)\n",
    "d=np.sort(C)\n",
    "print(d)\n",
    "print(np.where(d==0.))"
   ]
  },
  {
   "cell_type": "code",
   "execution_count": 44,
   "metadata": {},
   "outputs": [
    {
     "name": "stdout",
     "output_type": "stream",
     "text": [
      "[[ 1  2  3  4  5  6]\n",
      " [ 7  8  9 10 11 12]]\n",
      "[[[ 1  2  3]\n",
      "  [ 4  5  6]]\n",
      "\n",
      " [[ 7  8  9]\n",
      "  [10 11 12]]]\n"
     ]
    }
   ],
   "source": [
    "import numpy as np\n",
    "arr = np.array([1, 2, 3, 4, 5, 6, 7, 8, 9, 10, 11, 12])\n",
    "x=arr.reshape(2,-1)\n",
    "y=arr.reshape(2,2,-1)\n",
    "print(x)\n",
    "print(y)"
   ]
  },
  {
   "cell_type": "code",
   "execution_count": 47,
   "metadata": {},
   "outputs": [
    {
     "name": "stdout",
     "output_type": "stream",
     "text": [
      "[array([1, 2, 3]), array([4, 5, 6]), array([7, 8]), array([ 9, 10])]\n"
     ]
    }
   ],
   "source": [
    "import numpy as np\n",
    "x=np.arange(1,11)\n",
    "y=np.array_split(x,4)\n",
    "print(y)"
   ]
  },
  {
   "cell_type": "code",
   "execution_count": 52,
   "metadata": {},
   "outputs": [
    {
     "name": "stdout",
     "output_type": "stream",
     "text": [
      "[array([[1, 2, 3],\n",
      "       [4, 5, 6]]), array([[7, 8, 9]])]\n"
     ]
    }
   ],
   "source": [
    "import numpy as np\n",
    "x=np.arange(1,10).reshape(3,3)\n",
    "y=np.array_split(x,2)\n",
    "print(y)"
   ]
  },
  {
   "cell_type": "code",
   "execution_count": 58,
   "metadata": {},
   "outputs": [
    {
     "name": "stdout",
     "output_type": "stream",
     "text": [
      "[array([[[1, 2],\n",
      "        [3, 4],\n",
      "        [5, 6]]]), array([[[ 7,  8],\n",
      "        [ 9, 10],\n",
      "        [11, 12]]]), array([], shape=(0, 3, 2), dtype=int32)]\n"
     ]
    }
   ],
   "source": [
    "import numpy as np\n",
    "x=np.arange(1,13).reshape(2,3,2)\n",
    "y=np.array_split(x,3)\n",
    "print(y)"
   ]
  },
  {
   "cell_type": "code",
   "execution_count": 70,
   "metadata": {},
   "outputs": [
    {
     "name": "stdout",
     "output_type": "stream",
     "text": [
      "[[5 0 5]\n",
      " [5 9 5]\n",
      " [4 1 1]]\n",
      "[[0 5 5]\n",
      " [5 5 9]\n",
      " [1 1 4]]\n"
     ]
    }
   ],
   "source": [
    "#2d array randomnly array sort only second row\n",
    "import numpy as np\n",
    "import random\n",
    "x=np.random.randint(20,size=(3,3))\n",
    "print(x)\n",
    "y=np.sort(x[1])\n",
    "x[1]=y\n",
    "print(x)"
   ]
  },
  {
   "cell_type": "code",
   "execution_count": 75,
   "metadata": {},
   "outputs": [
    {
     "name": "stdout",
     "output_type": "stream",
     "text": [
      "[[4 7 3]\n",
      " [3 9 4]\n",
      " [5 6 7]]\n",
      "[[3 6 3]\n",
      " [4 7 4]\n",
      " [5 9 7]]\n"
     ]
    }
   ],
   "source": [
    "#2d array randomnly array column wise\n",
    "import numpy as np\n",
    "import random\n",
    "x=np.random.randint(10,size=(3,3))\n",
    "print(x)\n",
    "y=np.sort(x,0)\n",
    "print(y)"
   ]
  },
  {
   "cell_type": "code",
   "execution_count": 78,
   "metadata": {},
   "outputs": [
    {
     "name": "stdout",
     "output_type": "stream",
     "text": [
      "[[7 3 4]\n",
      " [0 1 3]\n",
      " [6 4 0]]\n",
      "[[3 4 7]\n",
      " [0 1 3]\n",
      " [0 4 6]]\n"
     ]
    }
   ],
   "source": [
    "#2d array randomnly array row wise\n",
    "import numpy as np\n",
    "import random\n",
    "x=np.random.randint(10,size=(3,3))\n",
    "print(x)\n",
    "y=np.sort(x,1)\n",
    "print(y)"
   ]
  },
  {
   "cell_type": "code",
   "execution_count": 81,
   "metadata": {},
   "outputs": [
    {
     "data": {
      "text/plain": [
       "array([1, 2, 3, 4, 5, 2])"
      ]
     },
     "execution_count": 81,
     "metadata": {},
     "output_type": "execute_result"
    }
   ],
   "source": [
    "import numpy as np\n",
    "x=np.array([1,2,3,4,5])\n",
    "np.append(x,2)\n"
   ]
  },
  {
   "cell_type": "code",
   "execution_count": null,
   "metadata": {},
   "outputs": [],
   "source": [
    "import numpy as np\n",
    "class Attendance:\n",
    "    l1=[]\n",
    "    def low(self,l):\n",
    "        l1.append(l)\n",
    "    def lowatt(self):\n",
    "        print(self.l1)\n",
    "        \n",
    "class student(Attendance):\n",
    "    ps=0\n",
    "    python=0\n",
    "    fsd=0\n",
    "    de=0\n",
    "    name=\"\"\n",
    "    l=[]\n",
    "    def attendance(self):\n",
    "        x=input(\"Enter name of student\")\n",
    "        self.name=x\n",
    "        for i in (0,5,1):\n",
    "            print(\"day\",i)\n",
    "            p1=int(input(\"Enter o for absent and 1 for present for ps\"))\n",
    "            self.ps+=p1\n",
    "            p2=int(input(\"Enter o for absent and 1 for present for python\"))\n",
    "            self.python+=p1\n",
    "            p3=int(input(\"Enter o for absent and 1 for present for fsd\"))\n",
    "            self.fsd+=p1\n",
    "            p4=int(input(\"Enter o for absent and 1 for present for de\"))\n",
    "            self.de+=p1\n",
    "        if((p1+p2+p3+p4)<15):\n",
    "            self.l.append([self.name,(p1+p2+p3+p4)])\n",
    "            super().low(self.l)\n",
    "        \n",
    "a=Attendance() \n",
    "s=student()\n",
    "n=int(input(\"Enter no of students \"))\n",
    "for i in range(0,n):\n",
    "    s.attendance()\n",
    "s.lowatt()"
   ]
  },
  {
   "cell_type": "markdown",
   "metadata": {},
   "source": []
  }
 ],
 "metadata": {
  "kernelspec": {
   "display_name": "Python 3",
   "language": "python",
   "name": "python3"
  },
  "language_info": {
   "codemirror_mode": {
    "name": "ipython",
    "version": 3
   },
   "file_extension": ".py",
   "mimetype": "text/x-python",
   "name": "python",
   "nbconvert_exporter": "python",
   "pygments_lexer": "ipython3",
   "version": "3.8.5"
  }
 },
 "nbformat": 4,
 "nbformat_minor": 4
}
