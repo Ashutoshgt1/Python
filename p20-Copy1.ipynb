{
 "cells": [
  {
   "cell_type": "code",
   "execution_count": 15,
   "metadata": {},
   "outputs": [
    {
     "name": "stdout",
     "output_type": "stream",
     "text": [
      "FILE NAME A3.txt MODE w\n",
      "False\n",
      "True\n",
      "<built-in method close of _io.TextIOWrapper object at 0x000001C5A5788EE0>\n"
     ]
    }
   ],
   "source": [
    "#File in python\n",
    "f=open(\"A3.txt\",\"w\")\n",
    "print(\"FILE NAME\",f.name,\"MODE\",f.mode)\n",
    "print(f.readable())\n",
    "print(f.writable())\n",
    "f.close()\n",
    "print(f.close)"
   ]
  },
  {
   "cell_type": "code",
   "execution_count": 16,
   "metadata": {},
   "outputs": [
    {
     "name": "stdout",
     "output_type": "stream",
     "text": [
      "abc def\n",
      " xyz\n",
      " a\n",
      "\n",
      "b\n",
      "\n",
      "c\n",
      "\n",
      "hello\n"
     ]
    }
   ],
   "source": [
    "#Methods of file\n",
    "f=open(\"A3.txt\",\"r\")\n",
    "x=f.readline()\n",
    "y=f.readline()\n",
    "z=f.readline()\n",
    "print(x,y,z)\n",
    "print(f.readline())\n",
    "print(f.readline())\n",
    "print(f.readline())\n"
   ]
  },
  {
   "cell_type": "code",
   "execution_count": 19,
   "metadata": {},
   "outputs": [
    {
     "name": "stdout",
     "output_type": "stream",
     "text": [
      "ab\n",
      "c def\n",
      "\n",
      "xyz\n",
      "\n"
     ]
    }
   ],
   "source": [
    "f=open(\"A3.txt\",\"r\")\n",
    "print(f.readline(2))\n",
    "print(f.readline())\n",
    "print(f.readline())"
   ]
  },
  {
   "cell_type": "code",
   "execution_count": 31,
   "metadata": {},
   "outputs": [
    {
     "name": "stdout",
     "output_type": "stream",
     "text": [
      "['abc def\\n', 'xyz\\n', 'a\\n', 'b\\n', 'c\\n', 'hello']\n"
     ]
    }
   ],
   "source": [
    "f=open(\"A3.txt\",\"r\")\n",
    "print(f.readlines(20))"
   ]
  },
  {
   "cell_type": "code",
   "execution_count": 38,
   "metadata": {},
   "outputs": [],
   "source": [
    "f=open(\"1.txt\",\"w\")\n",
    "x=f.write(\"Hello\\nBye\\nSayonara\")\n",
    "f.writelines([\"hello\\n\",\"Bye\\n\"])\n",
    "f.close()"
   ]
  },
  {
   "cell_type": "code",
   "execution_count": 42,
   "metadata": {},
   "outputs": [],
   "source": [
    "f=open(\"2.txt\",\"a\")\n",
    "f.write(\"Hello3\\nBye3\\n\")\n",
    "f.write(\"Hello3\\nBye3\\n\")\n",
    "f.close()"
   ]
  },
  {
   "cell_type": "code",
   "execution_count": 56,
   "metadata": {},
   "outputs": [
    {
     "name": "stdout",
     "output_type": "stream",
     "text": [
      "YE\n"
     ]
    }
   ],
   "source": [
    "f=open(\"TamaruNaam.txt\",\"w+\")\n",
    "f.write(\"BYE\")\n",
    "f.seek(1)\n",
    "print(f.read())\n",
    "f.close()"
   ]
  },
  {
   "cell_type": "code",
   "execution_count": 63,
   "metadata": {},
   "outputs": [
    {
     "name": "stdout",
     "output_type": "stream",
     "text": [
      "Hello3 sayonara\n",
      "Bye3\n",
      "Hello3 sayonara\n",
      "Bye3\n",
      "Hello3 sayonara\n",
      "Bye3\n",
      "6\n"
     ]
    }
   ],
   "source": [
    "f=open(\"2.txt\",\"r\")\n",
    "c=0\n",
    "for i in f:\n",
    "    c+=1\n",
    "    print(i.strip())\n",
    "print(c)"
   ]
  },
  {
   "cell_type": "code",
   "execution_count": 64,
   "metadata": {},
   "outputs": [
    {
     "name": "stdout",
     "output_type": "stream",
     "text": [
      "Hello3\n",
      "sayonara\n",
      "Bye3\n",
      "Hello3\n",
      "sayonara\n",
      "Bye3\n",
      "Hello3\n",
      "sayonara\n",
      "Bye3\n",
      "6\n"
     ]
    }
   ],
   "source": [
    "f=open(\"2.txt\",\"r\")\n",
    "c=0\n",
    "for i in f:\n",
    "    c+=1\n",
    "    for j in i.split(\" \"):\n",
    "        print(j.strip())\n",
    "print(c)"
   ]
  },
  {
   "cell_type": "code",
   "execution_count": 80,
   "metadata": {},
   "outputs": [
    {
     "name": "stdout",
     "output_type": "stream",
     "text": [
      "dhd\n",
      "ghfgh\n",
      "\n",
      "bjhkjhkh\n",
      "hgjhgh\n"
     ]
    }
   ],
   "source": [
    "f=open(\"3.txt\",\"r\")\n",
    "for i in f:\n",
    "    for j in i.split(\" \"):\n",
    "        print(j.strip())\n",
    "f.close()"
   ]
  },
  {
   "cell_type": "code",
   "execution_count": 85,
   "metadata": {},
   "outputs": [
    {
     "name": "stdout",
     "output_type": "stream",
     "text": [
      "dhd\n",
      "\n",
      "\n",
      "\n",
      "\n",
      "hgjhgh\n"
     ]
    }
   ],
   "source": [
    "f=open(\"3.txt\",\"r\")\n",
    "for i in f:\n",
    "    for j in i.split(\" \"):\n",
    "        if(j[0]==j[-1]):\n",
    "            print(j)\n",
    "            j.strip()\n",
    "f.close()"
   ]
  },
  {
   "cell_type": "code",
   "execution_count": 74,
   "metadata": {},
   "outputs": [
    {
     "name": "stdout",
     "output_type": "stream",
     "text": [
      "Hello3 sayonara\n",
      "Hello3 sayonara\n",
      "Hello3 sayonara\n",
      "6\n"
     ]
    }
   ],
   "source": [
    "f=open(\"2.txt\",\"r\")\n",
    "c=0\n",
    "for i in f:\n",
    "    c+=1\n",
    "    if (c%2==0):\n",
    "        continue\n",
    "    print(i.strip())\n",
    "print(c)"
   ]
  },
  {
   "cell_type": "code",
   "execution_count": null,
   "metadata": {},
   "outputs": [],
   "source": []
  }
 ],
 "metadata": {
  "kernelspec": {
   "display_name": "Python 3",
   "language": "python",
   "name": "python3"
  },
  "language_info": {
   "codemirror_mode": {
    "name": "ipython",
    "version": 3
   },
   "file_extension": ".py",
   "mimetype": "text/x-python",
   "name": "python",
   "nbconvert_exporter": "python",
   "pygments_lexer": "ipython3",
   "version": "3.8.5"
  }
 },
 "nbformat": 4,
 "nbformat_minor": 4
}
