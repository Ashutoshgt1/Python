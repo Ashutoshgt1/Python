{
 "cells": [
  {
   "cell_type": "code",
   "execution_count": 15,
   "metadata": {},
   "outputs": [
    {
     "name": "stdout",
     "output_type": "stream",
     "text": [
      "Overwriting tcp_server.py\n"
     ]
    }
   ],
   "source": [
    "%%writefile tcp_server.py\n",
    "import socket\n",
    "host = socket.gethostname()\n",
    "port = 6000\n",
    "server = socket.socket(type=socket.SOCK_STREAM)\n",
    "server.bind((host,port))\n",
    "server.listen()\n",
    "conn, addr = server.accept()\n",
    "print(\"connection from \",str(addr))\n",
    "\n",
    "while True:\n",
    "    data=conn.recv(1024).decode()\n",
    "    if data == 'bye':\n",
    "        break\n",
    "    print('from connected user ',data)\n",
    "    data =  input(\"Enter Response: \")\n",
    "    conn.send(data.encode())\n",
    "conn.close()"
   ]
  },
  {
   "cell_type": "code",
   "execution_count": 19,
   "metadata": {},
   "outputs": [
    {
     "name": "stdout",
     "output_type": "stream",
     "text": [
      "Overwriting tcp_client.py\n"
     ]
    }
   ],
   "source": [
    "%%writefile tcp_client.py\n",
    "import socket\n",
    "host = \"192.168.107.56\"\n",
    "port = 7000\n",
    "client=socket.socket()\n",
    "client.connect((host,port))\n",
    "\n",
    "msg = input(\"Enter msg: \")\n",
    "while msg != 'bye':\n",
    "    client.send(msg.encode())\n",
    "    data = client.recv(1024).decode()\n",
    "    \n",
    "    print(\"Received from server: \",data)\n",
    "    msg= input('Enter msg: ')\n",
    "client.close()"
   ]
  },
  {
   "cell_type": "code",
   "execution_count": null,
   "metadata": {},
   "outputs": [],
   "source": []
  }
 ],
 "metadata": {
  "kernelspec": {
   "display_name": "Python 3",
   "language": "python",
   "name": "python3"
  },
  "language_info": {
   "codemirror_mode": {
    "name": "ipython",
    "version": 3
   },
   "file_extension": ".py",
   "mimetype": "text/x-python",
   "name": "python",
   "nbconvert_exporter": "python",
   "pygments_lexer": "ipython3",
   "version": "3.8.5"
  }
 },
 "nbformat": 4,
 "nbformat_minor": 4
}
