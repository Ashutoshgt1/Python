{
 "cells": [
  {
   "cell_type": "code",
   "execution_count": 5,
   "metadata": {},
   "outputs": [
    {
     "name": "stdout",
     "output_type": "stream",
     "text": [
      "0\n",
      "11\n"
     ]
    }
   ],
   "source": [
    "with open(\"1.txt\",\"r\") as f:\n",
    "    print(f.seek(0,1))\n",
    "    print(f.seek(0,2))"
   ]
  },
  {
   "cell_type": "code",
   "execution_count": 17,
   "metadata": {},
   "outputs": [
    {
     "name": "stdout",
     "output_type": "stream",
     "text": [
      "Lines: 6\n",
      "Words 6\n"
     ]
    }
   ],
   "source": [
    "#Calculate lines and words of a file by using method\n",
    "f=open(\"Student.txt\",\"w+\")\n",
    "f.write(\"Hello\\nhi\\nBye\\nadnsefcd\\n123434\\ntext\")\n",
    "f.close()\n",
    "def cl(f):\n",
    "    f.seek(0)\n",
    "    c=0\n",
    "    for i in f:\n",
    "        c+=1\n",
    "    return c\n",
    "def cw(f):\n",
    "    f.seek(0)\n",
    "    w=0\n",
    "    for i in f:\n",
    "        for j in i.split():\n",
    "            w+=1\n",
    "    return w\n",
    "f=open(\"Student.txt\",\"r\")\n",
    "print(\"Lines:\",cl(f))\n",
    "print(\"Words\",cw(f))\n",
    "f.close()"
   ]
  },
  {
   "cell_type": "code",
   "execution_count": 24,
   "metadata": {},
   "outputs": [
    {
     "name": "stdout",
     "output_type": "stream",
     "text": [
      "Hello\n",
      "hi\n",
      "Bye\n",
      "adnsefcd\n",
      "123434\n",
      "text\n",
      "HELLO\n",
      "HI\n",
      "BYE\n",
      "ADNSEFCD\n",
      "123434\n",
      "TEXT\n"
     ]
    }
   ],
   "source": [
    "f=open(\"Student.txt\",\"r+\")\n",
    "f2=open(\"4.txt\",\"w+\")\n",
    "f2.write(f.read().upper())\n",
    "f.seek(0)\n",
    "print(f.read())\n",
    "f.close()\n",
    "f2.seek(0)\n",
    "print(f2.read())\n",
    "f2.close()"
   ]
  },
  {
   "cell_type": "code",
   "execution_count": 28,
   "metadata": {},
   "outputs": [
    {
     "name": "stdout",
     "output_type": "stream",
     "text": [
      "Hello\n",
      "hi\n",
      "Bye\n",
      "adnsefcd\n",
      "123434\n",
      "text\n",
      "Hello\n",
      "BYE2\n",
      "HELLO\n",
      "HI\n",
      "BYE\n",
      "ADNSEFCD\n",
      "123434\n",
      "TEXTHello\n",
      "BYE2\n"
     ]
    }
   ],
   "source": [
    "#take from 2 files and atore it in 3rd file\n",
    "f=open(\"Student.txt\",\"r+\")\n",
    "f1=open(\"1.txt\",\"r+\")\n",
    "f2=open(\"4.txt\",\"w+\")\n",
    "f2.write(f.read().upper()+f1.read())\n",
    "f.seek(0)\n",
    "f1.seek(0)\n",
    "f2.seek(0)\n",
    "print(f.read())\n",
    "print(f1.read())\n",
    "print(f2.read())\n",
    "f.close()\n",
    "f1.close()\n",
    "f2.close()"
   ]
  },
  {
   "cell_type": "code",
   "execution_count": 45,
   "metadata": {},
   "outputs": [
    {
     "name": "stdout",
     "output_type": "stream",
     "text": [
      "BYE2 Found at Index: 6\n",
      "line: 2\n"
     ]
    }
   ],
   "source": [
    "#find number and it's line and index\n",
    "f1=open(\"1.txt\",\"r+\")\n",
    "c=0\n",
    "str=f1.read()\n",
    "f1.seek(0)\n",
    "for i in f1:\n",
    "    c+=1\n",
    "    for j in i.split():\n",
    "        if(j==\"BYE2\"):\n",
    "            if(c<=2):\n",
    "                print(j,\"Found at Index:\",str.index(j))\n",
    "            else:\n",
    "                print(str.index(j)+c-1)\n",
    "            print(\"line:\",c)\n",
    "f1.close()"
   ]
  },
  {
   "cell_type": "code",
   "execution_count": 67,
   "metadata": {},
   "outputs": [
    {
     "name": "stdout",
     "output_type": "stream",
     "text": [
      "Word Found\n",
      "Line 5\n",
      "Index 0\n"
     ]
    }
   ],
   "source": [
    "#find number and it's line and index\n",
    "f=open(\"Student.txt\",\"r\")\n",
    "f.seek(0)\n",
    "x=f.readlines()\n",
    "w=\"text\"\n",
    "f.seek(0)\n",
    "for i in x: \n",
    "    if (i.find(w)!=-1):\n",
    "        print(\"Word Found\")\n",
    "        print(\"Line\",x.index(i))\n",
    "        print(\"Index\",i.index(w))"
   ]
  },
  {
   "cell_type": "code",
   "execution_count": 89,
   "metadata": {},
   "outputs": [
    {
     "name": "stdout",
     "output_type": "stream",
     "text": [
      "Hello hi aidni 238847 text \n"
     ]
    }
   ],
   "source": [
    "#reverse the word starting with i\n",
    "f=open(\"Student.txt\",\"r\")\n",
    "r=\"\"\n",
    "for i in f:\n",
    "    for j in i.split():\n",
    "        if j[0]==\"i\":\n",
    "            r=r+j[::-1]+\" \"\n",
    "        else:\n",
    "            r=r+j+\" \"\n",
    "print(r)"
   ]
  },
  {
   "cell_type": "code",
   "execution_count": 90,
   "metadata": {},
   "outputs": [
    {
     "name": "stdout",
     "output_type": "stream",
     "text": [
      "text\n"
     ]
    }
   ],
   "source": [
    "#words having length 4 store it in list\n",
    "f=open(\"Student.txt\",\"r\")\n",
    "l=[]\n",
    "for i in f:\n",
    "    for j in i.split():\n",
    "        if len(j)==4:\n",
    "            l.append(j)\n",
    "print(j)"
   ]
  },
  {
   "cell_type": "code",
   "execution_count": 91,
   "metadata": {},
   "outputs": [
    {
     "name": "stdout",
     "output_type": "stream",
     "text": [
      "Enter input: bwuh dgdd wehu and\n",
      "bwuh dgdd wehu \n"
     ]
    }
   ],
   "source": [
    "a=input(\"Enter input: \")\n",
    "f=open(\"5.text\",\"a+\")\n",
    "for i in a.split(\" \"):\n",
    "    if(i==\"and\"):\n",
    "        break\n",
    "    else:\n",
    "        f.write(i+\" \")\n",
    "f.seek(0)\n",
    "print(f.read())\n",
    "f.close()"
   ]
  },
  {
   "cell_type": "code",
   "execution_count": 103,
   "metadata": {},
   "outputs": [
    {
     "name": "stdout",
     "output_type": "stream",
     "text": [
      "Enter input: rjvruv\n",
      "Enter input: ccbqwe\n",
      "Enter input: eriuh\n",
      "Enter input: and\n",
      "rjvruv ccbqwe eriuh \n"
     ]
    }
   ],
   "source": [
    "f=open(\"5.text\",\"a+\")\n",
    "while(True):\n",
    "    a=input(\"Enter input: \")\n",
    "    if(a==\"and\"):\n",
    "        break\n",
    "    else:\n",
    "        f.write(a+\" \")\n",
    "f.seek(0)\n",
    "print(f.read())\n",
    "f.close()"
   ]
  },
  {
   "cell_type": "code",
   "execution_count": null,
   "metadata": {},
   "outputs": [],
   "source": [
    "s=0\n",
    "w=0\n",
    "ch=0\n",
    "f=open(\"5.text\",\"r\")\n",
    "x=f.read()\n",
    "ch=len(x)-count(\\n)\n",
    "for i in f:\n",
    "    "
   ]
  }
 ],
 "metadata": {
  "kernelspec": {
   "display_name": "Python 3",
   "language": "python",
   "name": "python3"
  },
  "language_info": {
   "codemirror_mode": {
    "name": "ipython",
    "version": 3
   },
   "file_extension": ".py",
   "mimetype": "text/x-python",
   "name": "python",
   "nbconvert_exporter": "python",
   "pygments_lexer": "ipython3",
   "version": "3.8.5"
  }
 },
 "nbformat": 4,
 "nbformat_minor": 4
}
